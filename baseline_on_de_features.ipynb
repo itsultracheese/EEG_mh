{
 "cells": [
  {
   "cell_type": "code",
   "execution_count": 1,
   "metadata": {},
   "outputs": [],
   "source": [
    "import os\n",
    "import mne\n",
    "import PyQt6\n",
    "import numpy as np\n",
    "import matplotlib\n",
    "import matplotlib.pyplot as plt\n",
    "\n",
    "from collections import Counter\n",
    "\n",
    "import warnings\n",
    "warnings.filterwarnings('ignore')\n",
    "\n",
    "from sklearn.ensemble import RandomForestClassifier\n",
    "from sklearn.svm import SVC\n",
    "from sklearn.neighbors import KNeighborsClassifier\n",
    "from sklearn.metrics import accuracy_score, roc_auc_score, confusion_matrix, classification_report, f1_score\n",
    "from sklearn.model_selection import StratifiedKFold\n",
    "\n",
    "%matplotlib qt"
   ]
  },
  {
   "cell_type": "markdown",
   "metadata": {},
   "source": [
    "## Calculate DE features"
   ]
  },
  {
   "cell_type": "code",
   "execution_count": 2,
   "metadata": {},
   "outputs": [
    {
     "name": "stdout",
     "output_type": "stream",
     "text": [
      "Number of files for open eyes: 363\n",
      "Number of files for closed eyes: 363\n"
     ]
    }
   ],
   "source": [
    "folders = os.listdir('bipolar/')\n",
    "\n",
    "fldr2label = {\n",
    "    'control (160)': 0,\n",
    "    'Биполярка депресс тип (35)': 4,\n",
    "    'Биполярка маниакальный тип (36)': 5,\n",
    "    'мания_психи(30)': 6,\n",
    "    'циклотимия (13)': 7,\n",
    "    'depressed_32-0(22)': 1,\n",
    "    'depressed_32-1(44)': 2,\n",
    "    'depressed_32-2(22)': 3,\n",
    "}\n",
    "og_files = []\n",
    "zg_files = []\n",
    "og_labels = []\n",
    "zg_labels = []\n",
    "for fldr in folders:\n",
    "    pth =  'bipolar/' + fldr\n",
    "    og_pths = [x for x in os.listdir(pth) if x.lower().endswith('.edf') and ('og.' in x.lower() or 'ог.' in x.lower() or '_ог' in x.lower() or 'eo' in x.lower())]\n",
    "    zg_pths = [x for x in os.listdir(pth) if x.lower().endswith('.edf') and ('zg.' in x.lower() or 'зг.' in x.lower() or '_зг' in x.lower() or 'ec' in x.lower() or 'fon.' in x.lower() or 'eс' in x.lower())]\n",
    "    for f in og_pths:\n",
    "        og_files.append(pth + '/' + f)\n",
    "        og_labels.append(fldr2label[fldr])\n",
    "    for f in zg_pths:\n",
    "        zg_files.append(pth + '/' + f)\n",
    "        zg_labels.append(fldr2label[fldr])\n",
    "\n",
    "print(f'Number of files for open eyes: {len(og_files)}')\n",
    "print(f'Number of files for closed eyes: {len(zg_files)}')"
   ]
  },
  {
   "cell_type": "code",
   "execution_count": 3,
   "metadata": {},
   "outputs": [
    {
     "name": "stdout",
     "output_type": "stream",
     "text": [
      "Counter({0: 161, 2: 44, 5: 36, 4: 35, 6: 30, 1: 22, 3: 22, 7: 13})\n"
     ]
    }
   ],
   "source": [
    "cnt_og = Counter(og_labels)\n",
    "print(cnt_og)"
   ]
  },
  {
   "cell_type": "code",
   "execution_count": 4,
   "metadata": {},
   "outputs": [
    {
     "name": "stdout",
     "output_type": "stream",
     "text": [
      "Counter({0: 161, 2: 44, 5: 36, 4: 35, 6: 30, 1: 22, 3: 22, 7: 13})\n"
     ]
    }
   ],
   "source": [
    "cnt_zg = Counter(zg_labels)\n",
    "print(cnt_zg)"
   ]
  },
  {
   "cell_type": "code",
   "execution_count": 5,
   "metadata": {},
   "outputs": [],
   "source": [
    "def compute_features(data, s_freq=250, pairs=[], n_channels=19):\n",
    "    freq_bands = np.array([1, 4, 8, 13, 30])\n",
    "\n",
    "    psd, freqs = mne.time_frequency.psd_array_welch(data, sfreq=s_freq, fmin=1, fmax=30, n_fft=512, n_per_seg=s_freq, window='hann', average=None, verbose=False)\n",
    "\n",
    "    # compute ES and DE\n",
    "    differential_entropy = np.zeros((psd.shape[0], len(freq_bands) - 1, psd.shape[2]))\n",
    "    energy_spectrum = np.zeros((psd.shape[0], len(freq_bands) - 1, psd.shape[2]))\n",
    "\n",
    "    for i in range(n_channels):\n",
    "        for j in range(len(freq_bands) - 1):\n",
    "            band_indices = np.where((freqs >= freq_bands[j]) & (freqs < freq_bands[j+1]))[0]\n",
    "            if len(band_indices) > 0:\n",
    "                band_psd = psd[i, band_indices]\n",
    "                band_variance = np.mean(band_psd, axis=0)\n",
    "                differential_entropy[i, j] = 0.5 * np.log(2 * np.pi * np.e * band_variance)\n",
    "                energy_spectrum[i, j] = band_variance\n",
    "    # compute asymmetry features\n",
    "    left = differential_entropy[[x[0] for x in pairs]]\n",
    "    right = differential_entropy[[x[1] for x in pairs]]\n",
    "    dasm = left - right\n",
    "    rasm = left / right\n",
    "    return energy_spectrum, differential_entropy, dasm, rasm"
   ]
  },
  {
   "cell_type": "code",
   "execution_count": 6,
   "metadata": {},
   "outputs": [
    {
     "name": "stdout",
     "output_type": "stream",
     "text": [
      "skipped bipolar/control (160)/BORUTTO_JANNA_VLADIMIROVNA_48_EO_free.edf\n",
      "skipped bipolar/control (160)/MANUILOVA_ELENA_55_EO_free.edf\n",
      "skipped bipolar/control (160)/Martinenko_45_EO.edf\n",
      "could not convert string to float: '        '\n",
      "bipolar/control (160)/Skopincev_20_EO_free.edf\n"
     ]
    }
   ],
   "source": [
    "# calculate features for the first 14s of each recording\n",
    "n_channels = 19\n",
    "\n",
    "cleaned_labels_og = []\n",
    "es_features_og = []\n",
    "de_features_og = []\n",
    "dasm_features_og = []\n",
    "rasm_features_og = []\n",
    "\n",
    "name_pairs = [('Fp1', 'Fp2'), ('F3', 'F4'), ('F7', 'F8'), ('C3', 'C4'), ('T3', 'T4'), ('P3', 'P4'), ('T5', 'T6'), ('O1', 'O2')]\n",
    "idx_pairs = [(0, 1), (2, 4), (5, 6), (9, 11), (7, 8), (14, 16), (12, 13), (17, 18)]\n",
    "channels2use = ['Fp1', 'Fp2', 'F3', 'Fz', 'F4', 'F7', 'F8', 'T3', 'T4', 'C3', 'Cz', 'C4', 'T5', 'T6', 'P3', 'Pz', 'P4', 'O1', 'O2']\n",
    "\n",
    "for i in range(len(og_files)):\n",
    "    try:\n",
    "        path = og_files[i]\n",
    "        sample = mne.io.read_raw_edf(path, verbose=False, preload=True)\n",
    "        # skip faulty data for now\n",
    "        if 'chan' in sample.ch_names[0].lower():\n",
    "            continue\n",
    "\n",
    "        sample = sample.filter(l_freq=1, h_freq=30, method='iir', verbose=False)\n",
    "        channels = sample.ch_names\n",
    "        to_drop = channels[19:]\n",
    "        sample.drop_channels(to_drop)\n",
    "\n",
    "        new_idx = []\n",
    "        skip = False\n",
    "        for ch in channels2use:\n",
    "            found = False\n",
    "            for k in range(19):\n",
    "                if ch in channels[k]:\n",
    "                    new_idx.append(k)\n",
    "                    found = True\n",
    "                    break\n",
    "            if not found:\n",
    "                skip = True\n",
    "                break\n",
    "        if skip:\n",
    "            print(f'skipped {path}')\n",
    "            continue\n",
    "\n",
    "        s_freq = int(sample.info['sfreq'])\n",
    "        data = sample.get_data()[new_idx, :int(14 * s_freq)]\n",
    "\n",
    "        es, de, dasm, rasm = compute_features(data, s_freq, idx_pairs)\n",
    "        es_features_og.append(es)\n",
    "        de_features_og.append(de)\n",
    "        dasm_features_og.append(dasm)\n",
    "        rasm_features_og.append(rasm)\n",
    "        cleaned_labels_og.append(og_labels[i])\n",
    "    except Exception as e:\n",
    "        print(e)\n",
    "        print(path)"
   ]
  },
  {
   "cell_type": "code",
   "execution_count": 7,
   "metadata": {},
   "outputs": [],
   "source": [
    "# calculate features for the first 14s of each recording\n",
    "n_channels = 19\n",
    "\n",
    "cleaned_labels_zg = []\n",
    "es_features_zg = []\n",
    "de_features_zg = []\n",
    "dasm_features_zg = []\n",
    "rasm_features_zg = []\n",
    "\n",
    "name_pairs = [('Fp1', 'Fp2'), ('F3', 'F4'), ('F7', 'F8'), ('C3', 'C4'), ('T3', 'T4'), ('P3', 'P4'), ('T5', 'T6'), ('O1', 'O2')]\n",
    "idx_pairs = [(0, 1), (2, 4), (5, 6), (9, 11), (7, 8), (14, 16), (12, 13), (17, 18)]\n",
    "channels2use = ['Fp1', 'Fp2', 'F3', 'Fz', 'F4', 'F7', 'F8', 'T3', 'T4', 'C3', 'Cz', 'C4', 'T5', 'T6', 'P3', 'Pz', 'P4', 'O1', 'O2']\n",
    "\n",
    "to_skip = ['BORUTTO_JANNA_VLADIMIROVNA_48', 'MANUILOVA_ELENA_55', 'Martinenko_45', 'Skopincev_20']\n",
    "\n",
    "for i in range(len(zg_files)):\n",
    "    try:\n",
    "        path = zg_files[i]\n",
    "        if any([x in path for x in to_skip]):\n",
    "            continue\n",
    "        sample = mne.io.read_raw_edf(path, verbose=False, preload=True)\n",
    "        # skip faulty data for now\n",
    "        if 'chan' in sample.ch_names[0].lower():\n",
    "            continue\n",
    "\n",
    "        sample = sample.filter(l_freq=1, h_freq=30, method='iir', verbose=False)\n",
    "        channels = sample.ch_names\n",
    "        to_drop = channels[19:]\n",
    "\n",
    "        new_idx = []\n",
    "        skip = False\n",
    "        for ch in channels2use:\n",
    "            found = False\n",
    "            for k in range(19):\n",
    "                if ch in channels[k]:\n",
    "                    new_idx.append(k)\n",
    "                    found = True\n",
    "                    break\n",
    "            if not found:\n",
    "                skip = True\n",
    "                break\n",
    "        if skip:\n",
    "            continue\n",
    "\n",
    "        s_freq = int(sample.info['sfreq'])\n",
    "        data = sample.get_data()[new_idx, :int(14 * s_freq)]\n",
    "\n",
    "        es, de, dasm, rasm = compute_features(data, s_freq, idx_pairs)\n",
    "        es_features_zg.append(es)\n",
    "        de_features_zg.append(de)\n",
    "        dasm_features_zg.append(dasm)\n",
    "        rasm_features_zg.append(rasm)\n",
    "        cleaned_labels_zg.append(zg_labels[i])\n",
    "    except Exception as e:\n",
    "        print(e)\n",
    "        print(path)"
   ]
  },
  {
   "cell_type": "code",
   "execution_count": 8,
   "metadata": {},
   "outputs": [],
   "source": [
    "es_features_og = np.array(es_features_og)\n",
    "de_features_og = np.array(de_features_og)\n",
    "dasm_features_og = np.array(dasm_features_og)\n",
    "rasm_features_og = np.array(rasm_features_og)\n",
    "es_features_zg = np.array(es_features_zg)\n",
    "de_features_zg = np.array(de_features_zg)\n",
    "dasm_features_zg = np.array(dasm_features_zg)\n",
    "rasm_features_zg = np.array(rasm_features_zg)\n",
    "\n",
    "cleaned_labels_og = np.array(cleaned_labels_og)\n",
    "cleaned_labels_zg = np.array(cleaned_labels_zg)"
   ]
  },
  {
   "cell_type": "markdown",
   "metadata": {},
   "source": [
    "## Models"
   ]
  },
  {
   "cell_type": "markdown",
   "metadata": {},
   "source": [
    "### Open eyes"
   ]
  },
  {
   "cell_type": "code",
   "execution_count": 11,
   "metadata": {},
   "outputs": [
    {
     "name": "stdout",
     "output_type": "stream",
     "text": [
      "Random Forest\n",
      "avg macro-f1: 0.2134123537969546\n",
      "avg micro-f1: 0.5041079812206573\n",
      "--------------------------------------------\n",
      "KNN\n",
      "avg macro-f1: 0.313935631813156\n",
      "avg micro-f1: 0.4929577464788732\n",
      "--------------------------------------------\n",
      "SVM\n",
      "avg macro-f1: 0.4320934030407605\n",
      "avg micro-f1: 0.587793427230047\n",
      "--------------------------------------------\n"
     ]
    }
   ],
   "source": [
    "kf = StratifiedKFold(n_splits=5, shuffle=True, random_state=92)\n",
    "\n",
    "classifiers = [\"Random Forest\", \"KNN\", \"SVM\"]\n",
    "\n",
    "for j, clf in enumerate(classifiers):\n",
    "    f1_scores_macro = []\n",
    "    f1_scores_micro = []\n",
    "\n",
    "    print(f'{clf}')\n",
    "\n",
    "    for i, (train, test) in enumerate(kf.split(list(range(len(cleaned_labels_og))), cleaned_labels_og)):\n",
    "        X_train = np.concatenate((es_features_og[train].reshape(-1, 19 * 4 * 14), de_features_og[train].reshape(-1, 19 * 4 * 14), dasm_features_og[train].reshape(-1, 8 * 4 * 14), rasm_features_og[train].reshape(-1, 8 * 4 * 14)), axis=1)\n",
    "        X_test = np.concatenate((es_features_og[test].reshape(-1, 19 * 4 * 14), de_features_og[test].reshape(-1, 19 * 4 * 14), dasm_features_og[test].reshape(-1, 8 * 4 * 14), rasm_features_og[test].reshape(-1, 8 * 4 * 14)), axis=1)\n",
    "        y_train = cleaned_labels_og[train]\n",
    "        y_test = cleaned_labels_og[test]\n",
    "        if j == 0:\n",
    "            clf = RandomForestClassifier(random_state=92)\n",
    "        elif j == 1:\n",
    "            clf = KNeighborsClassifier()\n",
    "        elif j == 2:\n",
    "            clf = SVC(kernel='linear', class_weight='balanced', random_state=92)\n",
    "        clf.fit(X_train, y_train)\n",
    "        preds = clf.predict(X_test)\n",
    "        f1_scores_macro.append(f1_score(y_test, preds, average='macro'))\n",
    "        f1_scores_micro.append(f1_score(y_test, preds, average='micro'))\n",
    "\n",
    "    print(f'avg macro-f1: {np.mean(f1_scores_macro)}')\n",
    "    print(f'avg micro-f1: {np.mean(f1_scores_micro)}')\n",
    "    print('--------------------------------------------')"
   ]
  },
  {
   "cell_type": "markdown",
   "metadata": {},
   "source": [
    "#### Feature elimination"
   ]
  },
  {
   "cell_type": "markdown",
   "metadata": {},
   "source": [
    "No asymmetry features"
   ]
  },
  {
   "cell_type": "code",
   "execution_count": 12,
   "metadata": {},
   "outputs": [
    {
     "name": "stdout",
     "output_type": "stream",
     "text": [
      "avg macro-f1: 0.4200857850234449\n",
      "avg micro-f1: 0.5765649452269171\n"
     ]
    }
   ],
   "source": [
    "kf = StratifiedKFold(n_splits=5, shuffle=True, random_state=92)\n",
    "\n",
    "f1_scores_macro = []\n",
    "f1_scores_micro = []\n",
    "\n",
    "for i, (train, test) in enumerate(kf.split(list(range(len(cleaned_labels_og))), cleaned_labels_og)):\n",
    "    X_train = np.concatenate((es_features_og[train].reshape(-1, 19 * 4 * 14), de_features_og[train].reshape(-1, 19 * 4 * 14)), axis=1)\n",
    "    X_test = np.concatenate((es_features_og[test].reshape(-1, 19 * 4 * 14), de_features_og[test].reshape(-1, 19 * 4 * 14)), axis=1)\n",
    "    y_train = cleaned_labels_og[train]\n",
    "    y_test = cleaned_labels_og[test]\n",
    "    clf = SVC(kernel='linear', class_weight='balanced', random_state=92)\n",
    "    clf.fit(X_train, y_train)\n",
    "    preds = clf.predict(X_test)\n",
    "    f1_scores_macro.append(f1_score(y_test, preds, average='macro'))\n",
    "    f1_scores_micro.append(f1_score(y_test, preds, average='micro'))\n",
    "    # print(confusion_matrix(y_test, preds))\n",
    "    # print()\n",
    "\n",
    "# print(f1_scores_macro)\n",
    "print(f'avg macro-f1: {np.mean(f1_scores_macro)}')\n",
    "# print(f1_scores_micro)\n",
    "print(f'avg micro-f1: {np.mean(f1_scores_micro)}')"
   ]
  },
  {
   "cell_type": "markdown",
   "metadata": {},
   "source": [
    "No energy spectrum"
   ]
  },
  {
   "cell_type": "code",
   "execution_count": 13,
   "metadata": {},
   "outputs": [
    {
     "name": "stdout",
     "output_type": "stream",
     "text": [
      "avg macro-f1: 0.4320934030407605\n",
      "avg micro-f1: 0.587793427230047\n"
     ]
    }
   ],
   "source": [
    "kf = StratifiedKFold(n_splits=5, shuffle=True, random_state=92)\n",
    "\n",
    "f1_scores_macro = []\n",
    "f1_scores_micro = []\n",
    "\n",
    "for i, (train, test) in enumerate(kf.split(list(range(len(cleaned_labels_og))), cleaned_labels_og)):\n",
    "    X_train = np.concatenate((de_features_og[train].reshape(-1, 19 * 4 * 14), dasm_features_og[train].reshape(-1, 8 * 4 * 14), rasm_features_og[train].reshape(-1, 8 * 4 * 14)), axis=1)\n",
    "    X_test = np.concatenate((de_features_og[test].reshape(-1, 19 * 4 * 14), dasm_features_og[test].reshape(-1, 8 * 4 * 14), rasm_features_og[test].reshape(-1, 8 * 4 * 14)), axis=1)\n",
    "    y_train = cleaned_labels_og[train]\n",
    "    y_test = cleaned_labels_og[test]\n",
    "    clf = SVC(kernel='linear', class_weight='balanced', random_state=92)\n",
    "    clf.fit(X_train, y_train)\n",
    "    preds = clf.predict(X_test)\n",
    "    f1_scores_macro.append(f1_score(y_test, preds, average='macro'))\n",
    "    f1_scores_micro.append(f1_score(y_test, preds, average='micro'))\n",
    "    # print(confusion_matrix(y_test, preds))\n",
    "    # print()\n",
    "\n",
    "# print(f1_scores_macro)\n",
    "print(f'avg macro-f1: {np.mean(f1_scores_macro)}')\n",
    "# print(f1_scores_micro)\n",
    "print(f'avg micro-f1: {np.mean(f1_scores_micro)}')"
   ]
  },
  {
   "cell_type": "markdown",
   "metadata": {},
   "source": [
    "Only differential entropy"
   ]
  },
  {
   "cell_type": "code",
   "execution_count": 14,
   "metadata": {},
   "outputs": [
    {
     "name": "stdout",
     "output_type": "stream",
     "text": [
      "avg macro-f1: 0.4200857850234449\n",
      "avg micro-f1: 0.5765649452269171\n"
     ]
    }
   ],
   "source": [
    "kf = StratifiedKFold(n_splits=5, shuffle=True, random_state=92)\n",
    "\n",
    "f1_scores_macro = []\n",
    "f1_scores_micro = []\n",
    "\n",
    "for i, (train, test) in enumerate(kf.split(list(range(len(cleaned_labels_og))), cleaned_labels_og)):\n",
    "    X_train = de_features_og[train].reshape(-1, 19 * 4 * 14)\n",
    "    X_test = de_features_og[test].reshape(-1, 19 * 4 * 14)\n",
    "    y_train = cleaned_labels_og[train]\n",
    "    y_test = cleaned_labels_og[test]\n",
    "    clf = SVC(kernel='linear', class_weight='balanced', random_state=92)\n",
    "    clf.fit(X_train, y_train)\n",
    "    preds = clf.predict(X_test)\n",
    "    f1_scores_macro.append(f1_score(y_test, preds, average='macro'))\n",
    "    f1_scores_micro.append(f1_score(y_test, preds, average='micro'))\n",
    "    # print(confusion_matrix(y_test, preds))\n",
    "    # print()\n",
    "\n",
    "# print(f1_scores_macro)\n",
    "print(f'avg macro-f1: {np.mean(f1_scores_macro)}')\n",
    "# print(f1_scores_micro)\n",
    "print(f'avg micro-f1: {np.mean(f1_scores_micro)}')"
   ]
  },
  {
   "cell_type": "markdown",
   "metadata": {},
   "source": [
    "Only energy spectrum"
   ]
  },
  {
   "cell_type": "code",
   "execution_count": 15,
   "metadata": {},
   "outputs": [
    {
     "name": "stdout",
     "output_type": "stream",
     "text": [
      "avg macro-f1: 0.019871794871794874\n",
      "avg micro-f1: 0.08638497652582158\n"
     ]
    }
   ],
   "source": [
    "kf = StratifiedKFold(n_splits=5, shuffle=True, random_state=92)\n",
    "\n",
    "f1_scores_macro = []\n",
    "f1_scores_micro = []\n",
    "\n",
    "for i, (train, test) in enumerate(kf.split(list(range(len(cleaned_labels_og))), cleaned_labels_og)):\n",
    "    X_train = es_features_og[train].reshape(-1, 19 * 4 * 14)\n",
    "    X_test = es_features_og[test].reshape(-1, 19 * 4 * 14)\n",
    "    y_train = cleaned_labels_og[train]\n",
    "    y_test = cleaned_labels_og[test]\n",
    "    clf = SVC(kernel='linear', class_weight='balanced', random_state=92)\n",
    "    clf.fit(X_train, y_train)\n",
    "    preds = clf.predict(X_test)\n",
    "    f1_scores_macro.append(f1_score(y_test, preds, average='macro'))\n",
    "    f1_scores_micro.append(f1_score(y_test, preds, average='micro'))\n",
    "    # print(confusion_matrix(y_test, preds))\n",
    "    # print()\n",
    "\n",
    "# print(f1_scores_macro)\n",
    "print(f'avg macro-f1: {np.mean(f1_scores_macro)}')\n",
    "# print(f1_scores_micro)\n",
    "print(f'avg micro-f1: {np.mean(f1_scores_micro)}')"
   ]
  },
  {
   "cell_type": "markdown",
   "metadata": {},
   "source": [
    "#### Features by bands"
   ]
  },
  {
   "cell_type": "code",
   "execution_count": 16,
   "metadata": {},
   "outputs": [
    {
     "name": "stdout",
     "output_type": "stream",
     "text": [
      "BAND 0\n",
      "avg macro-f1: 0.33368200755679733\n",
      "avg micro-f1: 0.4760954616588419\n",
      "--------------------------------------------\n",
      "BAND 1\n",
      "avg macro-f1: 0.354980978955328\n",
      "avg micro-f1: 0.48456572769953044\n",
      "--------------------------------------------\n",
      "BAND 2\n",
      "avg macro-f1: 0.3649216541490458\n",
      "avg micro-f1: 0.4873891497130932\n",
      "--------------------------------------------\n",
      "BAND 3\n",
      "avg macro-f1: 0.3528734712174783\n",
      "avg micro-f1: 0.48249217527386545\n",
      "--------------------------------------------\n"
     ]
    }
   ],
   "source": [
    "kf = StratifiedKFold(n_splits=5, shuffle=True, random_state=92)\n",
    "\n",
    "f1_scores_macro = []\n",
    "f1_scores_micro = []\n",
    "\n",
    "for j in range(4):\n",
    "    print('BAND', j)\n",
    "    for i, (train, test) in enumerate(kf.split(list(range(len(cleaned_labels_og))), cleaned_labels_og)):\n",
    "        X_train = np.concatenate((de_features_og[train, :, j].reshape(-1, 19 * 14), dasm_features_og[train, :, j].reshape(-1, 8 * 14), rasm_features_og[train, :, j].reshape(-1, 8 * 14)), axis=1)\n",
    "        X_test = np.concatenate((de_features_og[test, :, j].reshape(-1, 19 * 14), dasm_features_og[test, :, j].reshape(-1, 8 * 14), rasm_features_og[test, :, j].reshape(-1, 8 * 14)), axis=1)\n",
    "        y_train = cleaned_labels_og[train]\n",
    "        y_test = cleaned_labels_og[test]\n",
    "        clf = SVC(kernel='linear', class_weight='balanced', random_state=92)\n",
    "        clf.fit(X_train, y_train)\n",
    "        preds = clf.predict(X_test)\n",
    "        f1_scores_macro.append(f1_score(y_test, preds, average='macro'))\n",
    "        f1_scores_micro.append(f1_score(y_test, preds, average='micro'))\n",
    "        # print(confusion_matrix(y_test, preds))\n",
    "        # print()\n",
    "\n",
    "    # print(f1_scores_macro)\n",
    "    print(f'avg macro-f1: {np.mean(f1_scores_macro)}')\n",
    "    # print(f1_scores_micro)\n",
    "    print(f'avg micro-f1: {np.mean(f1_scores_micro)}')\n",
    "    print('--------------------------------------------')"
   ]
  },
  {
   "cell_type": "markdown",
   "metadata": {},
   "source": [
    "#### Features by brain regions"
   ]
  },
  {
   "cell_type": "code",
   "execution_count": 17,
   "metadata": {},
   "outputs": [
    {
     "name": "stdout",
     "output_type": "stream",
     "text": [
      "ZONE: frontal\n",
      "avg macro-f1: 0.3745436422473487\n",
      "avg micro-f1: 0.4929577464788732\n",
      "--------------------------------------------\n",
      "ZONE: temporal\n",
      "avg macro-f1: 0.35901337553433105\n",
      "avg micro-f1: 0.5013693270735524\n",
      "--------------------------------------------\n",
      "ZONE: central\n",
      "avg macro-f1: 0.3609114468714058\n",
      "avg micro-f1: 0.4921231090245175\n",
      "--------------------------------------------\n",
      "ZONE: parietal\n",
      "avg macro-f1: 0.35276287533885897\n",
      "avg micro-f1: 0.4860915492957747\n",
      "--------------------------------------------\n",
      "ZONE: occipital\n",
      "avg macro-f1: 0.3481234367347128\n",
      "avg micro-f1: 0.47521909233176834\n",
      "--------------------------------------------\n"
     ]
    }
   ],
   "source": [
    "zone2ids = {'frontal': [0, 1, 2, 3, 4, 5, 6], 'temporal': [7, 8, 12, 13], 'central': [9, 10, 11], 'parietal': [14, 15, 16], 'occipital': [17, 18]}\n",
    "zone2pair = {'frontal': [0, 1, 2], 'temporal': [4, 6], 'central': [3], 'parietal': [5], 'occipital': [7]}\n",
    "\n",
    "kf = StratifiedKFold(n_splits=5, shuffle=True, random_state=92)\n",
    "\n",
    "f1_scores_macro = []\n",
    "f1_scores_micro = []\n",
    "\n",
    "for zone, ids in zone2ids.items():\n",
    "    print(f'ZONE: {zone}')\n",
    "    for i, (train, test) in enumerate(kf.split(list(range(len(cleaned_labels_og))), cleaned_labels_og)):\n",
    "        n = len(ids)\n",
    "        n_pairs = len(zone2pair[zone])\n",
    "        X_train = np.concatenate((es_features_og[train][:, ids].reshape(-1, n * 4 * 14), de_features_og[train][:, ids].reshape(-1, n * 4 * 14), dasm_features_og[train][:, zone2pair[zone]].reshape(-1, n_pairs * 4 * 14), rasm_features_og[train][:, zone2pair[zone]].reshape(-1, n_pairs * 4 * 14)), axis=1)\n",
    "        X_test = np.concatenate((es_features_og[test][:, ids].reshape(-1, n * 4 * 14), de_features_og[test][:, ids].reshape(-1, n * 4 * 14), dasm_features_og[test][:, zone2pair[zone]].reshape(-1, n_pairs * 4 * 14), rasm_features_og[test][:, zone2pair[zone]].reshape(-1, n_pairs * 4 * 14)), axis=1)\n",
    "        y_train = cleaned_labels_og[train]\n",
    "        y_test = cleaned_labels_og[test]\n",
    "        clf = SVC(kernel='linear', class_weight='balanced', random_state=92)\n",
    "        clf.fit(X_train, y_train)\n",
    "        preds = clf.predict(X_test)\n",
    "        f1_scores_macro.append(f1_score(y_test, preds, average='macro'))\n",
    "        f1_scores_micro.append(f1_score(y_test, preds, average='micro'))\n",
    "        # print(confusion_matrix(y_test, preds))\n",
    "        # print()\n",
    "\n",
    "    # print(f1_scores_macro)\n",
    "    print(f'avg macro-f1: {np.mean(f1_scores_macro)}')\n",
    "    # print(f1_scores_micro)\n",
    "    print(f'avg micro-f1: {np.mean(f1_scores_micro)}')\n",
    "    print('--------------------------------------------')"
   ]
  },
  {
   "cell_type": "markdown",
   "metadata": {},
   "source": [
    "#### Unite classes"
   ]
  },
  {
   "cell_type": "code",
   "execution_count": 18,
   "metadata": {},
   "outputs": [
    {
     "name": "stdout",
     "output_type": "stream",
     "text": [
      "avg macro-f1: 0.5288547171229467\n",
      "avg micro-f1: 0.6296557120500783\n"
     ]
    }
   ],
   "source": [
    "kf = StratifiedKFold(n_splits=5, shuffle=True, random_state=92)\n",
    "\n",
    "f1_scores_macro = []\n",
    "f1_scores_micro = []\n",
    "\n",
    "label_map = {0: 0, 1: 1, 2: 1, 3: 2, 4: 2, 5: 2, 6: 3, 7: 4}\n",
    "\n",
    "def map_labels(labels):\n",
    "    new_labels = np.zeros(len(labels))\n",
    "    for i in range(len(labels)):\n",
    "        new_labels[i] = label_map[labels[i]]\n",
    "    return new_labels\n",
    "\n",
    "cleaned_labels_og_tmp = map_labels(cleaned_labels_og)\n",
    "\n",
    "for i, (train, test) in enumerate(kf.split(list(range(len(cleaned_labels_og_tmp))), cleaned_labels_og_tmp)):\n",
    "    X_train = np.concatenate((es_features_og[train].reshape(-1, 19 * 4 * 14), de_features_og[train].reshape(-1, 19 * 4 * 14), dasm_features_og[train].reshape(-1, 8 * 4 * 14), rasm_features_og[train].reshape(-1, 8 * 4 * 14)), axis=1)\n",
    "    X_test = np.concatenate((es_features_og[test].reshape(-1, 19 * 4 * 14), de_features_og[test].reshape(-1, 19 * 4 * 14), dasm_features_og[test].reshape(-1, 8 * 4 * 14), rasm_features_og[test].reshape(-1, 8 * 4 * 14)), axis=1)\n",
    "    y_train = cleaned_labels_og_tmp[train]\n",
    "    y_test = cleaned_labels_og_tmp[test]\n",
    "    clf = SVC(kernel='linear', class_weight='balanced', random_state=92)\n",
    "    clf.fit(X_train, y_train)\n",
    "    preds = clf.predict(X_test)\n",
    "    f1_scores_macro.append(f1_score(y_test, preds, average='macro'))\n",
    "    f1_scores_micro.append(f1_score(y_test, preds, average='micro'))\n",
    "    # print(confusion_matrix(y_test, preds))\n",
    "    # print()\n",
    "\n",
    "# print(f1_scores_macro)\n",
    "print(f'avg macro-f1: {np.mean(f1_scores_macro)}')\n",
    "# print(f1_scores_micro)\n",
    "print(f'avg micro-f1: {np.mean(f1_scores_micro)}')"
   ]
  },
  {
   "cell_type": "markdown",
   "metadata": {},
   "source": [
    "### Closed eyes"
   ]
  },
  {
   "cell_type": "code",
   "execution_count": 19,
   "metadata": {},
   "outputs": [
    {
     "name": "stdout",
     "output_type": "stream",
     "text": [
      "Random Forest\n",
      "avg macro-f1: 0.2478204591444444\n",
      "avg micro-f1: 0.5181533646322378\n",
      "--------------------------------------------\n",
      "KNN\n",
      "avg macro-f1: 0.31527099586747587\n",
      "avg micro-f1: 0.48200312989045385\n",
      "--------------------------------------------\n",
      "SVM\n",
      "avg macro-f1: 0.4630724787768131\n",
      "avg micro-f1: 0.6128716744913929\n",
      "--------------------------------------------\n"
     ]
    }
   ],
   "source": [
    "kf = StratifiedKFold(n_splits=5, shuffle=True, random_state=92)\n",
    "\n",
    "classifiers = [\"Random Forest\", \"KNN\", \"SVM\"]\n",
    "\n",
    "for j, clf in enumerate(classifiers):\n",
    "    f1_scores_macro = []\n",
    "    f1_scores_micro = []\n",
    "\n",
    "    print(f'{clf}')\n",
    "\n",
    "    for i, (train, test) in enumerate(kf.split(list(range(len(cleaned_labels_zg))), cleaned_labels_zg)):\n",
    "        X_train = np.concatenate((es_features_zg[train].reshape(-1, 19 * 4 * 14), de_features_zg[train].reshape(-1, 19 * 4 * 14), dasm_features_zg[train].reshape(-1, 8 * 4 * 14), rasm_features_zg[train].reshape(-1, 8 * 4 * 14)), axis=1)\n",
    "        X_test = np.concatenate((es_features_zg[test].reshape(-1, 19 * 4 * 14), de_features_zg[test].reshape(-1, 19 * 4 * 14), dasm_features_zg[test].reshape(-1, 8 * 4 * 14), rasm_features_zg[test].reshape(-1, 8 * 4 * 14)), axis=1)\n",
    "        y_train = cleaned_labels_zg[train]\n",
    "        y_test = cleaned_labels_zg[test]\n",
    "        if j == 0:\n",
    "            clf = RandomForestClassifier(random_state=92)\n",
    "        elif j == 1:\n",
    "            clf = KNeighborsClassifier()\n",
    "        elif j == 2:\n",
    "            clf = SVC(kernel='linear', class_weight='balanced', random_state=92)\n",
    "        clf.fit(X_train, y_train)\n",
    "        preds = clf.predict(X_test)\n",
    "        f1_scores_macro.append(f1_score(y_test, preds, average='macro'))\n",
    "        f1_scores_micro.append(f1_score(y_test, preds, average='micro'))\n",
    "\n",
    "    print(f'avg macro-f1: {np.mean(f1_scores_macro)}')\n",
    "    print(f'avg micro-f1: {np.mean(f1_scores_micro)}')\n",
    "    print('--------------------------------------------')"
   ]
  },
  {
   "cell_type": "markdown",
   "metadata": {},
   "source": [
    "#### Feature elimination"
   ]
  },
  {
   "cell_type": "markdown",
   "metadata": {},
   "source": [
    "No asymmetry features"
   ]
  },
  {
   "cell_type": "code",
   "execution_count": 20,
   "metadata": {},
   "outputs": [
    {
     "name": "stdout",
     "output_type": "stream",
     "text": [
      "avg macro-f1: 0.46099207551993937\n",
      "avg micro-f1: 0.6100938967136151\n"
     ]
    }
   ],
   "source": [
    "kf = StratifiedKFold(n_splits=5, shuffle=True, random_state=92)\n",
    "\n",
    "f1_scores_macro = []\n",
    "f1_scores_micro = []\n",
    "\n",
    "for i, (train, test) in enumerate(kf.split(list(range(len(cleaned_labels_zg))), cleaned_labels_zg)):\n",
    "    X_train = np.concatenate((es_features_zg[train].reshape(-1, 19 * 4 * 14), de_features_zg[train].reshape(-1, 19 * 4 * 14)), axis=1)\n",
    "    X_test = np.concatenate((es_features_zg[test].reshape(-1, 19 * 4 * 14), de_features_zg[test].reshape(-1, 19 * 4 * 14)), axis=1)\n",
    "    y_train = cleaned_labels_zg[train]\n",
    "    y_test = cleaned_labels_zg[test]\n",
    "    clf = SVC(kernel='linear', class_weight='balanced', random_state=92)\n",
    "    clf.fit(X_train, y_train)\n",
    "    preds = clf.predict(X_test)\n",
    "    f1_scores_macro.append(f1_score(y_test, preds, average='macro'))\n",
    "    f1_scores_micro.append(f1_score(y_test, preds, average='micro'))\n",
    "\n",
    "# print(f1_scores_macro)\n",
    "print(f'avg macro-f1: {np.mean(f1_scores_macro)}')\n",
    "# print(f1_scores_micro)\n",
    "print(f'avg micro-f1: {np.mean(f1_scores_micro)}')"
   ]
  },
  {
   "cell_type": "markdown",
   "metadata": {},
   "source": [
    "No energy spectrum"
   ]
  },
  {
   "cell_type": "code",
   "execution_count": 21,
   "metadata": {},
   "outputs": [
    {
     "name": "stdout",
     "output_type": "stream",
     "text": [
      "avg macro-f1: 0.4630724787768131\n",
      "avg micro-f1: 0.6128716744913929\n"
     ]
    }
   ],
   "source": [
    "kf = StratifiedKFold(n_splits=5, shuffle=True, random_state=92)\n",
    "\n",
    "f1_scores_macro = []\n",
    "f1_scores_micro = []\n",
    "\n",
    "for i, (train, test) in enumerate(kf.split(list(range(len(cleaned_labels_zg))), cleaned_labels_zg)):\n",
    "    X_train = np.concatenate((de_features_zg[train].reshape(-1, 19 * 4 * 14), dasm_features_zg[train].reshape(-1, 8 * 4 * 14), rasm_features_zg[train].reshape(-1, 8 * 4 * 14)), axis=1)\n",
    "    X_test = np.concatenate((de_features_zg[test].reshape(-1, 19 * 4 * 14), dasm_features_zg[test].reshape(-1, 8 * 4 * 14), rasm_features_zg[test].reshape(-1, 8 * 4 * 14)), axis=1)\n",
    "    y_train = cleaned_labels_zg[train]\n",
    "    y_test = cleaned_labels_zg[test]\n",
    "    clf = SVC(kernel='linear', class_weight='balanced', random_state=92)\n",
    "    clf.fit(X_train, y_train)\n",
    "    preds = clf.predict(X_test)\n",
    "    f1_scores_macro.append(f1_score(y_test, preds, average='macro'))\n",
    "    f1_scores_micro.append(f1_score(y_test, preds, average='micro'))\n",
    "\n",
    "# print(f1_scores_macro)\n",
    "print(f'avg macro-f1: {np.mean(f1_scores_macro)}')\n",
    "# print(f1_scores_micro)\n",
    "print(f'avg micro-f1: {np.mean(f1_scores_micro)}')"
   ]
  },
  {
   "cell_type": "markdown",
   "metadata": {},
   "source": [
    "Only energy spectrum"
   ]
  },
  {
   "cell_type": "code",
   "execution_count": 22,
   "metadata": {},
   "outputs": [
    {
     "name": "stdout",
     "output_type": "stream",
     "text": [
      "avg macro-f1: 0.019871794871794874\n",
      "avg micro-f1: 0.08638497652582158\n"
     ]
    }
   ],
   "source": [
    "kf = StratifiedKFold(n_splits=5, shuffle=True, random_state=92)\n",
    "\n",
    "f1_scores_macro = []\n",
    "f1_scores_micro = []\n",
    "\n",
    "for i, (train, test) in enumerate(kf.split(list(range(len(cleaned_labels_zg))), cleaned_labels_zg)):\n",
    "    X_train = es_features_zg[train].reshape(-1, 19 * 4 * 14)\n",
    "    X_test = es_features_zg[test].reshape(-1, 19 * 4 * 14)\n",
    "    y_train = cleaned_labels_zg[train]\n",
    "    y_test = cleaned_labels_zg[test]\n",
    "    clf = SVC(kernel='linear', class_weight='balanced', random_state=92)\n",
    "    clf.fit(X_train, y_train)\n",
    "    preds = clf.predict(X_test)\n",
    "    f1_scores_macro.append(f1_score(y_test, preds, average='macro'))\n",
    "    f1_scores_micro.append(f1_score(y_test, preds, average='micro'))\n",
    "\n",
    "# print(f1_scores_macro)\n",
    "print(f'avg macro-f1: {np.mean(f1_scores_macro)}')\n",
    "# print(f1_scores_micro)\n",
    "print(f'avg micro-f1: {np.mean(f1_scores_micro)}')"
   ]
  },
  {
   "cell_type": "markdown",
   "metadata": {},
   "source": [
    "Only differential entropy"
   ]
  },
  {
   "cell_type": "code",
   "execution_count": 23,
   "metadata": {},
   "outputs": [
    {
     "name": "stdout",
     "output_type": "stream",
     "text": [
      "avg macro-f1: 0.46099207551993937\n",
      "avg micro-f1: 0.6100938967136151\n"
     ]
    }
   ],
   "source": [
    "kf = StratifiedKFold(n_splits=5, shuffle=True, random_state=92)\n",
    "\n",
    "f1_scores_macro = []\n",
    "f1_scores_micro = []\n",
    "\n",
    "for i, (train, test) in enumerate(kf.split(list(range(len(cleaned_labels_zg))), cleaned_labels_zg)):\n",
    "    X_train = de_features_zg[train].reshape(-1, 19 * 4 * 14)\n",
    "    X_test = de_features_zg[test].reshape(-1, 19 * 4 * 14)\n",
    "    y_train = cleaned_labels_zg[train]\n",
    "    y_test = cleaned_labels_zg[test]\n",
    "    clf = SVC(kernel='linear', class_weight='balanced', random_state=92)\n",
    "    clf.fit(X_train, y_train)\n",
    "    preds = clf.predict(X_test)\n",
    "    f1_scores_macro.append(f1_score(y_test, preds, average='macro'))\n",
    "    f1_scores_micro.append(f1_score(y_test, preds, average='micro'))\n",
    "\n",
    "# print(f1_scores_macro)\n",
    "print(f'avg macro-f1: {np.mean(f1_scores_macro)}')\n",
    "# print(f1_scores_micro)\n",
    "print(f'avg micro-f1: {np.mean(f1_scores_micro)}')"
   ]
  },
  {
   "cell_type": "markdown",
   "metadata": {},
   "source": [
    "#### Features by bands"
   ]
  },
  {
   "cell_type": "code",
   "execution_count": 24,
   "metadata": {},
   "outputs": [
    {
     "name": "stdout",
     "output_type": "stream",
     "text": [
      "BAND 0\n",
      "avg macro-f1: 0.3458356809028661\n",
      "avg micro-f1: 0.49581377151799694\n",
      "------------------------------------------\n",
      "BAND 1\n",
      "avg macro-f1: 0.3473792309939817\n",
      "avg micro-f1: 0.48607198748043823\n",
      "------------------------------------------\n",
      "BAND 2\n",
      "avg macro-f1: 0.3551551123886129\n",
      "avg micro-f1: 0.49115805946791863\n",
      "------------------------------------------\n",
      "BAND 3\n",
      "avg macro-f1: 0.3587663313639607\n",
      "avg micro-f1: 0.4992566510172144\n",
      "------------------------------------------\n"
     ]
    }
   ],
   "source": [
    "kf = StratifiedKFold(n_splits=5, shuffle=True, random_state=92)\n",
    "\n",
    "f1_scores_macro = []\n",
    "f1_scores_micro = []\n",
    "\n",
    "for j in range(4):\n",
    "    print(f'BAND {j}')\n",
    "    for i, (train, test) in enumerate(kf.split(list(range(len(cleaned_labels_zg))), cleaned_labels_zg)):\n",
    "        X_train = np.concatenate((es_features_zg[train, :, j].reshape(-1, 19 * 14), de_features_zg[train, :, j].reshape(-1, 19 * 14), dasm_features_zg[train, :, j].reshape(-1, 8 * 14), rasm_features_zg[train, :, j].reshape(-1, 8 * 14)), axis=1)\n",
    "        X_test = np.concatenate((es_features_zg[test, :, j].reshape(-1, 19 * 14), de_features_zg[test, :, j].reshape(-1, 19 * 14), dasm_features_zg[test, :, j].reshape(-1, 8 * 14), rasm_features_zg[test, :, j].reshape(-1, 8 * 14)), axis=1)\n",
    "        y_train = cleaned_labels_zg[train]\n",
    "        y_test = cleaned_labels_zg[test]\n",
    "        clf = SVC(kernel='linear', class_weight='balanced', random_state=92)\n",
    "        clf.fit(X_train, y_train)\n",
    "        preds = clf.predict(X_test)\n",
    "        f1_scores_macro.append(f1_score(y_test, preds, average='macro'))\n",
    "        f1_scores_micro.append(f1_score(y_test, preds, average='micro'))\n",
    "\n",
    "    # print(f1_scores_macro)\n",
    "    print(f'avg macro-f1: {np.mean(f1_scores_macro)}')\n",
    "    # print(f1_scores_micro)\n",
    "    print(f'avg micro-f1: {np.mean(f1_scores_micro)}')\n",
    "    print('------------------------------------------')"
   ]
  },
  {
   "cell_type": "markdown",
   "metadata": {},
   "source": [
    "#### Features by brain regions"
   ]
  },
  {
   "cell_type": "code",
   "execution_count": 25,
   "metadata": {},
   "outputs": [
    {
     "name": "stdout",
     "output_type": "stream",
     "text": [
      "ZONE: frontal\n",
      "avg macro-f1: 0.37589617914376977\n",
      "avg micro-f1: 0.5321987480438185\n",
      "--------------------------------------------\n",
      "ZONE: temporal\n",
      "avg macro-f1: 0.3739683881986582\n",
      "avg micro-f1: 0.5321009389671362\n",
      "--------------------------------------------\n",
      "ZONE: central\n",
      "avg macro-f1: 0.3643290633990521\n",
      "avg micro-f1: 0.5218831507563902\n",
      "--------------------------------------------\n",
      "ZONE: parietal\n",
      "avg macro-f1: 0.3776156398555617\n",
      "avg micro-f1: 0.5265453834115805\n",
      "--------------------------------------------\n",
      "ZONE: occipital\n",
      "avg macro-f1: 0.373235281077944\n",
      "avg micro-f1: 0.5192801251956182\n",
      "--------------------------------------------\n"
     ]
    }
   ],
   "source": [
    "zone2ids = {'frontal': [0, 1, 2, 3, 4, 5, 6], 'temporal': [7, 8, 12, 13], 'central': [9, 10, 11], 'parietal': [14, 15, 16], 'occipital': [17, 18]}\n",
    "zone2pair = {'frontal': [0, 1, 2], 'temporal': [4, 6], 'central': [3], 'parietal': [5], 'occipital': [7]}\n",
    "\n",
    "kf = StratifiedKFold(n_splits=5, shuffle=True, random_state=92)\n",
    "\n",
    "f1_scores_macro = []\n",
    "f1_scores_micro = []\n",
    "\n",
    "for zone, ids in zone2ids.items():\n",
    "    print(f'ZONE: {zone}')\n",
    "    for i, (train, test) in enumerate(kf.split(list(range(len(cleaned_labels_zg))), cleaned_labels_zg)):\n",
    "        n = len(ids)\n",
    "        n_pairs = len(zone2pair[zone])\n",
    "        X_train = np.concatenate((es_features_zg[train][:, ids].reshape(-1, n * 4 * 14), de_features_zg[train][:, ids].reshape(-1, n * 4 * 14), dasm_features_zg[train][:, zone2pair[zone]].reshape(-1, n_pairs * 4 * 14), rasm_features_zg[train][:, zone2pair[zone]].reshape(-1, n_pairs * 4 * 14)), axis=1)\n",
    "        X_test = np.concatenate((es_features_zg[test][:, ids].reshape(-1, n * 4 * 14), de_features_zg[test][:, ids].reshape(-1, n * 4 * 14), dasm_features_zg[test][:, zone2pair[zone]].reshape(-1, n_pairs * 4 * 14), rasm_features_zg[test][:, zone2pair[zone]].reshape(-1, n_pairs * 4 * 14)), axis=1)\n",
    "        y_train = cleaned_labels_zg[train]\n",
    "        y_test = cleaned_labels_zg[test]\n",
    "        clf = SVC(kernel='linear', class_weight='balanced', random_state=92)\n",
    "        clf.fit(X_train, y_train)\n",
    "        preds = clf.predict(X_test)\n",
    "        f1_scores_macro.append(f1_score(y_test, preds, average='macro'))\n",
    "        f1_scores_micro.append(f1_score(y_test, preds, average='micro'))\n",
    "        # print(confusion_matrix(y_test, preds))\n",
    "        # print()\n",
    "\n",
    "    # print(f1_scores_macro)\n",
    "    print(f'avg macro-f1: {np.mean(f1_scores_macro)}')\n",
    "    # print(f1_scores_micro)\n",
    "    print(f'avg micro-f1: {np.mean(f1_scores_micro)}')\n",
    "    print('--------------------------------------------')"
   ]
  },
  {
   "cell_type": "markdown",
   "metadata": {},
   "source": [
    "#### Unite classes"
   ]
  },
  {
   "cell_type": "code",
   "execution_count": 26,
   "metadata": {},
   "outputs": [
    {
     "name": "stdout",
     "output_type": "stream",
     "text": [
      "avg macro-f1: 0.5423991804343802\n",
      "avg micro-f1: 0.6435837245696401\n"
     ]
    }
   ],
   "source": [
    "kf = StratifiedKFold(n_splits=5, shuffle=True, random_state=92)\n",
    "\n",
    "f1_scores_macro = []\n",
    "f1_scores_micro = []\n",
    "\n",
    "label_map = {0: 0, 1: 1, 2: 1, 3: 2, 4: 2, 5: 2, 6: 3, 7: 4}\n",
    "\n",
    "def map_labels(labels):\n",
    "    new_labels = np.zeros(len(labels))\n",
    "    for i in range(len(labels)):\n",
    "        new_labels[i] = label_map[labels[i]]\n",
    "    return new_labels\n",
    "\n",
    "cleaned_labels_zg_tmp = map_labels(cleaned_labels_zg)\n",
    "\n",
    "for i, (train, test) in enumerate(kf.split(list(range(len(cleaned_labels_zg_tmp))), cleaned_labels_zg_tmp)):\n",
    "    X_train = np.concatenate((es_features_zg[train].reshape(-1, 19 * 4 * 14), de_features_zg[train].reshape(-1, 19 * 4 * 14), dasm_features_zg[train].reshape(-1, 8 * 4 * 14), rasm_features_zg[train].reshape(-1, 8 * 4 * 14)), axis=1)\n",
    "    X_test = np.concatenate((es_features_zg[test].reshape(-1, 19 * 4 * 14), de_features_zg[test].reshape(-1, 19 * 4 * 14), dasm_features_zg[test].reshape(-1, 8 * 4 * 14), rasm_features_zg[test].reshape(-1, 8 * 4 * 14)), axis=1)\n",
    "    y_train = cleaned_labels_zg_tmp[train]\n",
    "    y_test = cleaned_labels_zg_tmp[test]\n",
    "    clf = SVC(kernel='linear', class_weight='balanced', random_state=92)\n",
    "    clf.fit(X_train, y_train)\n",
    "    preds = clf.predict(X_test)\n",
    "    f1_scores_macro.append(f1_score(y_test, preds, average='macro'))\n",
    "    f1_scores_micro.append(f1_score(y_test, preds, average='micro'))\n",
    "    # print(confusion_matrix(y_test, preds))\n",
    "    # print()\n",
    "\n",
    "# print(f1_scores_macro)\n",
    "print(f'avg macro-f1: {np.mean(f1_scores_macro)}')\n",
    "# print(f1_scores_micro)\n",
    "print(f'avg micro-f1: {np.mean(f1_scores_micro)}')"
   ]
  },
  {
   "cell_type": "markdown",
   "metadata": {},
   "source": [
    "## Closed vs open classification quality"
   ]
  },
  {
   "cell_type": "code",
   "execution_count": 30,
   "metadata": {},
   "outputs": [],
   "source": [
    "# since the number of recordings and classes are in the same order, the approach seems okay?\n",
    "\n",
    "random_states = [1, 13, 27, 59, 92]\n",
    "\n",
    "f1_scores_macro_og = []\n",
    "f1_scores_micro_og = []\n",
    "f1_scores_macro_zg = []\n",
    "f1_scores_micro_zg = []\n",
    "\n",
    "for rs in random_states:\n",
    "    kf = StratifiedKFold(n_splits=10, shuffle=True, random_state=rs)\n",
    "\n",
    "    for i, (train, test) in enumerate(kf.split(list(range(len(cleaned_labels_zg))), cleaned_labels_zg)):\n",
    "        # open eyes\n",
    "        X_train = np.concatenate((es_features_og[train].reshape(-1, 19 * 4 * 14), de_features_og[train].reshape(-1, 19 * 4 * 14)), axis=1)\n",
    "        X_test = np.concatenate((es_features_og[test].reshape(-1, 19 * 4 * 14), de_features_og[test].reshape(-1, 19 * 4 * 14)), axis=1)\n",
    "        y_train = cleaned_labels_og[train]\n",
    "        y_test = cleaned_labels_og[test]\n",
    "        clf = SVC(kernel='linear', class_weight='balanced', random_state=92)\n",
    "        clf.fit(X_train, y_train)\n",
    "        preds = clf.predict(X_test)\n",
    "        f1_scores_macro_og.append(f1_score(y_test, preds, average='macro'))\n",
    "        f1_scores_micro_og.append(f1_score(y_test, preds, average='micro'))\n",
    "        # closed eyes\n",
    "        X_train = np.concatenate((es_features_zg[train].reshape(-1, 19 * 4 * 14), de_features_zg[train].reshape(-1, 19 * 4 * 14)), axis=1)\n",
    "        X_test = np.concatenate((es_features_zg[test].reshape(-1, 19 * 4 * 14), de_features_zg[test].reshape(-1, 19 * 4 * 14)), axis=1)\n",
    "        y_train = cleaned_labels_zg[train]\n",
    "        y_test = cleaned_labels_zg[test]\n",
    "        clf = SVC(kernel='linear', class_weight='balanced', random_state=92)\n",
    "        clf.fit(X_train, y_train)\n",
    "        preds = clf.predict(X_test)\n",
    "        f1_scores_macro_zg.append(f1_score(y_test, preds, average='macro'))\n",
    "        f1_scores_micro_zg.append(f1_score(y_test, preds, average='micro'))"
   ]
  },
  {
   "cell_type": "code",
   "execution_count": 32,
   "metadata": {},
   "outputs": [
    {
     "name": "stdout",
     "output_type": "stream",
     "text": [
      "mean f1 for opened eyes: 0.38530730394186646\n",
      "mean f1 for closed eyes: 0.4146567020111155\n"
     ]
    }
   ],
   "source": [
    "print(f'mean f1 for opened eyes: {np.mean(f1_scores_macro_og)}')\n",
    "print(f'mean f1 for closed eyes: {np.mean(f1_scores_macro_zg)}')"
   ]
  },
  {
   "cell_type": "code",
   "execution_count": 33,
   "metadata": {},
   "outputs": [
    {
     "data": {
      "text/plain": [
       "TtestResult(statistic=-2.2014639236538347, pvalue=0.03244283852491652, df=49)"
      ]
     },
     "execution_count": 33,
     "metadata": {},
     "output_type": "execute_result"
    }
   ],
   "source": [
    "from scipy.stats import ttest_rel\n",
    "\n",
    "ttest_rel(f1_scores_macro_og, f1_scores_macro_zg)"
   ]
  },
  {
   "cell_type": "code",
   "execution_count": null,
   "metadata": {},
   "outputs": [],
   "source": []
  }
 ],
 "metadata": {
  "kernelspec": {
   "display_name": "Python 3",
   "language": "python",
   "name": "python3"
  },
  "language_info": {
   "codemirror_mode": {
    "name": "ipython",
    "version": 3
   },
   "file_extension": ".py",
   "mimetype": "text/x-python",
   "name": "python",
   "nbconvert_exporter": "python",
   "pygments_lexer": "ipython3",
   "version": "3.11.9"
  }
 },
 "nbformat": 4,
 "nbformat_minor": 2
}
