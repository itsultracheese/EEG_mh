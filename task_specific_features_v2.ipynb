{
 "cells": [
  {
   "cell_type": "code",
   "execution_count": 1,
   "metadata": {},
   "outputs": [],
   "source": [
    "import os\n",
    "import mne\n",
    "import PyQt6\n",
    "import numpy as np\n",
    "import matplotlib\n",
    "import matplotlib.pyplot as plt\n",
    "from tqdm.notebook import tqdm\n",
    "\n",
    "from collections import Counter\n",
    "\n",
    "import warnings\n",
    "warnings.filterwarnings('ignore')\n",
    "\n",
    "from sklearn.ensemble import RandomForestClassifier\n",
    "from sklearn.svm import SVC\n",
    "from sklearn.neighbors import KNeighborsClassifier\n",
    "from sklearn.metrics import accuracy_score, roc_auc_score, confusion_matrix, classification_report, f1_score\n",
    "from sklearn.model_selection import StratifiedKFold\n",
    "\n",
    "from scipy import stats\n",
    "from scipy.stats import ttest_rel\n",
    "from scipy.stats import false_discovery_control\n",
    "\n",
    "%matplotlib qt"
   ]
  },
  {
   "cell_type": "code",
   "execution_count": 5,
   "metadata": {},
   "outputs": [
    {
     "data": {
      "text/plain": [
       "{'anxiety_ADD (47)': 0,\n",
       " 'anxiety_AFD (18)': 1,\n",
       " 'anxiety_general_AD (16)': 2,\n",
       " 'bipolar_BPD_1(26)': 3,\n",
       " 'bipolar_BPD_2(25)': 4,\n",
       " 'controls (157)': 5,\n",
       " 'Cyclothymia(10)': 6,\n",
       " 'depression_mild (29)': 7,\n",
       " 'depression_moderade (47)': 8,\n",
       " 'depression_severe (32)': 9,\n",
       " 'personality_disorder (56)': 10,\n",
       " 'stress_eating_disorder (14)': 11,\n",
       " 'stress_neurasthenia (7)': 12,\n",
       " 'stress_Somatoform_disorder (12)': 13,\n",
       " 'stress_Stress_disorder (24)': 14}"
      ]
     },
     "execution_count": 5,
     "metadata": {},
     "output_type": "execute_result"
    }
   ],
   "source": [
    "folders = [x for x in os.listdir('OCD/') if os.path.isdir('OCD/' + x)]\n",
    "fldr2label = {folders[i]: i for i in range(len(folders))}\n",
    "fldr2label"
   ]
  },
  {
   "cell_type": "code",
   "execution_count": 41,
   "metadata": {},
   "outputs": [],
   "source": [
    "label2class = {\n",
    "    0: 0, 1: 0, 2: 0,\n",
    "    3: 1, 4: 1,\n",
    "    5: 2,\n",
    "    6: 3,\n",
    "    7: 4, 8: 4, 9: 4,\n",
    "    10: 5,\n",
    "    11: 6,\n",
    "    12: 7,\n",
    "    13: 8,\n",
    "    14: 9,\n",
    "}\n",
    "stress_labels = [11, 12, 13, 14]\n",
    "stress_classes = [6, 7, 8, 9]"
   ]
  },
  {
   "cell_type": "code",
   "execution_count": null,
   "metadata": {},
   "outputs": [
    {
     "name": "stdout",
     "output_type": "stream",
     "text": [
      "Number of files for open eyes: 518\n",
      "Number of files for closed eyes: 518\n"
     ]
    }
   ],
   "source": [
    "og_files = []\n",
    "zg_files = []\n",
    "og_labels = []\n",
    "zg_labels = []\n",
    "for fldr in folders:\n",
    "    pth =  'OCD/' + fldr\n",
    "    og_pths = [x for x in os.listdir(pth) if x.lower().endswith('.edf') and ('og.' in x.lower() or 'ог.' in x.lower() or 'eo.' in x.lower() or '_eo' in x.lower())]\n",
    "    zg_pths = [x for x in os.listdir(pth) if x.lower().endswith('.edf') and ('zg.' in x.lower() or 'зг.' in x.lower() or 'ec.' in x.lower() or 'fon.' in x.lower() or '_ec' in x.lower() or 'eс.' in x.lower())]\n",
    "    left = [x for x in os.listdir(pth) if x not in og_pths and x not in zg_pths]\n",
    "    if len(left) > 0:\n",
    "        print(pth, left)\n",
    "    for f in og_pths:\n",
    "        og_files.append(pth + '/' + f)\n",
    "        og_labels.append(fldr2label[fldr])\n",
    "    for f in zg_pths:\n",
    "        zg_files.append(pth + '/' + f)\n",
    "        zg_labels.append(fldr2label[fldr])\n",
    "\n",
    "print(f'Number of files for open eyes: {len(og_files)}')\n",
    "print(f'Number of files for closed eyes: {len(zg_files)}')\n",
    "\n",
    "# ensured that og_files[i] is the pair for zg_files[i]"
   ]
  },
  {
   "cell_type": "markdown",
   "metadata": {},
   "source": [
    "# Topography features"
   ]
  },
  {
   "cell_type": "code",
   "execution_count": 51,
   "metadata": {},
   "outputs": [],
   "source": [
    "from sklearn.model_selection import train_test_split, StratifiedKFold\n",
    "from sklearn.neighbors import KNeighborsClassifier\n",
    "from sklearn.metrics import accuracy_score, roc_auc_score, f1_score\n",
    "from sklearn.svm import SVC"
   ]
  },
  {
   "cell_type": "code",
   "execution_count": 44,
   "metadata": {},
   "outputs": [],
   "source": [
    "def get_frontal_features(ch_names, psd):\n",
    "    indices = [i for i in range(len(ch_names)) if 'F3' in ch_names[i] or 'Fz' in ch_names[i] or 'F4' in ch_names[i]]\n",
    "    return psd[indices]\n",
    "\n",
    "def get_central_features(ch_names, psd):\n",
    "    indices = [i for i in range(len(ch_names)) if 'C3' in ch_names[i] or 'Cz' in ch_names[i] or 'C4' in ch_names[i]]\n",
    "    return psd[indices]\n",
    "\n",
    "def get_parietal_features(ch_names, psd):\n",
    "    indices = [i for i in range(len(ch_names)) if 'P3' in ch_names[i] or 'Pz' in ch_names[i] or 'P4' in ch_names[i]]\n",
    "    return psd[indices]\n",
    "\n",
    "def get_frontal2central_gradient(ch_names, psd):\n",
    "    frontal_indices = [i for i in range(len(ch_names)) if 'F3' in ch_names[i] or 'Fz' in ch_names[i] or 'F4' in ch_names[i]]\n",
    "    central_indices = [i for i in range(len(ch_names)) if 'C3' in ch_names[i] or 'Cz' in ch_names[i] or 'C4' in ch_names[i]]\n",
    "    return np.sum(psd[frontal_indices], axis=0) / np.sum(psd[central_indices], axis=0)\n",
    "\n",
    "def get_frontal2parietal_gradient(ch_names, psd):\n",
    "    frontal_indices = [i for i in range(len(ch_names)) if 'F3' in ch_names[i] or 'Fz' in ch_names[i] or 'F4' in ch_names[i]]\n",
    "    parietal_indices = [i for i in range(len(ch_names)) if 'P3' in ch_names[i] or 'Pz' in ch_names[i] or 'P4' in ch_names[i]]\n",
    "    return np.sum(psd[frontal_indices], axis=0) / np.sum(psd[parietal_indices], axis=0)\n",
    "\n",
    "def get_central2parietal_gradient(ch_names, psd):\n",
    "    central_indices = [i for i in range(len(ch_names)) if 'C3' in ch_names[i] or 'Cz' in ch_names[i] or 'C4' in ch_names[i]]\n",
    "    parietal_indices = [i for i in range(len(ch_names)) if 'P3' in ch_names[i] or 'Pz' in ch_names[i] or 'P4' in ch_names[i]]\n",
    "    return np.sum(psd[central_indices], axis=0) / np.sum(psd[parietal_indices], axis=0)\n",
    "\n",
    "def get_front2back_gradient(ch_names, psd):\n",
    "    front_indices = [i for i in range(len(ch_names)) if any([x in ch_names[i] for x in ['Fp1', 'Fp2', 'F3', 'Fz', 'F4']])]  \n",
    "    back_indices = [i for i in range(len(ch_names)) if any([x in ch_names[i] for x in ['O1', 'O2', 'P3', 'Pz', 'P4']])]\n",
    "    return np.sum(psd[front_indices], axis=0) / np.sum(psd[back_indices], axis=0)\n",
    "\n",
    "def get_left2right_gradient(ch_names, psd):\n",
    "    left_indices = [i for i in range(len(ch_names)) if any([x in ch_names[i] for x in ['F3', 'C3', 'P3', 'O1']])]\n",
    "    right_indices = [i for i in range(len(ch_names)) if any([x in ch_names[i] for x in ['F4', 'C4', 'P4', 'O2']])]\n",
    "    return np.sum(psd[left_indices], axis=0) / np.sum(psd[right_indices], axis=0)\n"
   ]
  },
  {
   "cell_type": "markdown",
   "metadata": {},
   "source": [
    "## Open eyes"
   ]
  },
  {
   "cell_type": "code",
   "execution_count": 61,
   "metadata": {},
   "outputs": [
    {
     "data": {
      "application/vnd.jupyter.widget-view+json": {
       "model_id": "1d04912bbc064985964b97ace4feadc7",
       "version_major": 2,
       "version_minor": 0
      },
      "text/plain": [
       "  0%|          | 0/518 [00:00<?, ?it/s]"
      ]
     },
     "metadata": {},
     "output_type": "display_data"
    },
    {
     "name": "stdout",
     "output_type": "stream",
     "text": [
      "skipped OCD/controls (157)/BORUTTO_JANNA_VLADIMIROVNA_48_EO_free.edf\n",
      "skipped OCD/controls (157)/Kutuz_f23_contr_og.edf\n",
      "skipped OCD/controls (157)/MANUILOVA_ELENA_55_og.edf\n",
      "skipped OCD/controls (157)/Martinenko_m45_og.edf\n",
      "skipped OCD/controls (157)/Skopincev_20_EO_free.edf\n",
      "skipped OCD/depression_moderade (47)/FiAV_m50_f32-1_At_Nt_og.edf\n"
     ]
    }
   ],
   "source": [
    "channels2use = ['Fp1', 'Fp2', 'F3', 'Fz', 'F4', 'F7', 'F8', 'T3', 'T4', 'C3', 'Cz', 'C4', 'T5', 'T6', 'P3', 'Pz', 'P4', 'O1', 'O2']\n",
    "freq_bands = [(6, 8), (8, 10), (10, 12), (12, 14), (13, 20), (20, 26), (8, 13), (13, 26), (8, 26), (6, 26)]\n",
    "\n",
    "classifiers = {'SVM': SVC(random_state=92), 'KNN': KNeighborsClassifier()}\n",
    "\n",
    "topo_features_og = []\n",
    "\n",
    "for i in tqdm(range(len(og_files))):\n",
    "    path = og_files[i]\n",
    "    try:\n",
    "        sample = mne.io.read_raw_edf(path, verbose=False, preload=True)\n",
    "    except Exception as e:\n",
    "        print(f'skipped {path}')\n",
    "        continue\n",
    "    # skip faulty data for now\n",
    "    if 'chan' in sample.ch_names[0].lower():\n",
    "        print(f'skipped {path}')\n",
    "        continue\n",
    "    sample = sample.filter(l_freq=1, h_freq=30, method='iir', verbose=False)\n",
    "    # get only necessary channels, reorder them\n",
    "    channels = sample.ch_names\n",
    "    to_drop = channels[19:]\n",
    "    sample.drop_channels(to_drop)\n",
    "    new_idx = []\n",
    "    skip = False\n",
    "    for ch in channels2use:\n",
    "        found = False\n",
    "        for k in range(19):\n",
    "            if ch in channels[k]:\n",
    "                new_idx.append(k)\n",
    "                found = True\n",
    "                break\n",
    "        if not found:\n",
    "            skip = True\n",
    "            break\n",
    "    if skip:\n",
    "        print(f'skipped {path}')\n",
    "        continue\n",
    "    \n",
    "    data = sample.get_data()[new_idx, :int(13 * s_freq)]\n",
    "    s_freq = int(sample.info['sfreq'])\n",
    "    psd, freqs = mne.time_frequency.psd_array_multitaper(data, sfreq=s_freq, fmin=0.5, fmax=30, normalization='length', verbose=False)\n",
    "    topo_features_og.append({\n",
    "        'frontal': get_frontal_features(channels, psd),\n",
    "        'central': get_central_features(channels, psd),\n",
    "        'parietal': get_parietal_features(channels, psd),\n",
    "        'frontal2central': get_frontal2central_gradient(channels, psd),\n",
    "        'frontal2parietal': get_frontal2parietal_gradient(channels, psd),\n",
    "        'central2parietal': get_central2parietal_gradient(channels, psd),\n",
    "        'front2back': get_front2back_gradient(channels, psd),\n",
    "        'left2right': get_left2right_gradient(channels, psd),\n",
    "        'label': og_labels[i]\n",
    "    })"
   ]
  },
  {
   "cell_type": "code",
   "execution_count": null,
   "metadata": {},
   "outputs": [],
   "source": [
    "frontal_features = [x['frontal'] for x in topo_features_og]\n",
    "central_features = [x['central'] for x in topo_features_og]\n",
    "parietal_features = [x['parietal'] for x in topo_features_og]\n",
    "frontal2central_features = [x['frontal2central'] for x in topo_features_og]\n",
    "frontal2parietal_features = [x['frontal2parietal'] for x in topo_features_og]\n",
    "central2parietal_features = [x['central2parietal'] for x in topo_features_og]\n",
    "front2back_features = [x['front2back'] for x in topo_features_og]\n",
    "left2right_features = [x['left2right'] for x in topo_features_og]\n",
    "labels = [x['label'] for x in topo_features_og]"
   ]
  },
  {
   "cell_type": "markdown",
   "metadata": {},
   "source": [
    "### Features one by one"
   ]
  },
  {
   "cell_type": "markdown",
   "metadata": {},
   "source": [
    "All labels"
   ]
  },
  {
   "cell_type": "code",
   "execution_count": 85,
   "metadata": {},
   "outputs": [
    {
     "name": "stdout",
     "output_type": "stream",
     "text": [
      "frontal\n",
      "\tF1 score: 0.11250261416492494, std: 0.030606284602774345\n",
      "central\n",
      "\tF1 score: 0.10486250423676235, std: 0.025602983231276306\n",
      "parietal\n",
      "\tF1 score: 0.12223074671071998, std: 0.011575335434729935\n",
      "frontal2central\n",
      "\tF1 score: 0.0774597833455145, std: 0.029984167815477556\n",
      "frontal2parietal\n",
      "\tF1 score: 0.09779532740214456, std: 0.034392507508768266\n",
      "central2parietal\n",
      "\tF1 score: 0.09068106494867942, std: 0.027668563019389653\n",
      "front2back\n",
      "\tF1 score: 0.11498950869912547, std: 0.021684691499209045\n",
      "left2right\n",
      "\tF1 score: 0.1112333003673633, std: 0.04347262443343937\n"
     ]
    }
   ],
   "source": [
    "kf = StratifiedKFold(n_splits=5, shuffle=True, random_state=92)\n",
    "\n",
    "for k in topo_features_og[0].keys():\n",
    "    if k == 'label':\n",
    "        continue\n",
    "    f1_scores = []\n",
    "    print(k)\n",
    "    features = [x[k].flatten() for x in topo_features_og]\n",
    "    for i, (train, test) in enumerate(kf.split(list(range(len(labels))), labels)):\n",
    "        clf = KNeighborsClassifier()\n",
    "        X_train = np.array(features)[train]\n",
    "        X_test = np.array(features)[test]\n",
    "        y_train = np.array(labels)[train]\n",
    "        y_test = np.array(labels)[test]\n",
    "        clf.fit(X_train, y_train)   \n",
    "        f1_scores.append(f1_score(y_test, clf.predict(X_test), average='macro'))\n",
    "\n",
    "    print(f'\\tF1 score: {np.mean(f1_scores)}, std: {np.std(f1_scores)}')"
   ]
  },
  {
   "cell_type": "markdown",
   "metadata": {},
   "source": [
    "Broad categories"
   ]
  },
  {
   "cell_type": "code",
   "execution_count": 76,
   "metadata": {},
   "outputs": [
    {
     "name": "stdout",
     "output_type": "stream",
     "text": [
      "frontal\n",
      "\tF1 score: 0.16016623964228058, std: 0.028209450556244683\n",
      "central\n",
      "\tF1 score: 0.1949888604748365, std: 0.033500412808975324\n",
      "parietal\n",
      "\tF1 score: 0.16295284781679323, std: 0.02864178674387819\n",
      "frontal2central\n",
      "\tF1 score: 0.12691166559053219, std: 0.019388950709221572\n",
      "frontal2parietal\n",
      "\tF1 score: 0.1596938003769357, std: 0.04683574331080182\n",
      "central2parietal\n",
      "\tF1 score: 0.15057948800879722, std: 0.04109434929722972\n",
      "front2back\n",
      "\tF1 score: 0.1613583381796355, std: 0.05536802042520719\n",
      "left2right\n",
      "\tF1 score: 0.13116597703251426, std: 0.019182017864940903\n"
     ]
    }
   ],
   "source": [
    "kf = StratifiedKFold(n_splits=5, shuffle=True, random_state=92)\n",
    "classes = [label2class[x] for x in labels]\n",
    "\n",
    "for k in topo_features_og[0].keys():\n",
    "    if k == 'label':\n",
    "        continue\n",
    "    f1_scores = []\n",
    "    print(k)\n",
    "    features = [x[k].flatten() for x in topo_features_og]\n",
    "    for i, (train, test) in enumerate(kf.split(list(range(len(classes))), classes)):\n",
    "        clf = KNeighborsClassifier()\n",
    "        X_train = np.array(features)[train]\n",
    "        X_test = np.array(features)[test]\n",
    "        y_train = np.array(classes)[train]\n",
    "        y_test = np.array(classes)[test]\n",
    "        clf.fit(X_train, y_train)   \n",
    "        f1_scores.append(f1_score(y_test, clf.predict(X_test), average='macro'))\n",
    "\n",
    "    print(f'\\tF1 score: {np.mean(f1_scores)}, std: {np.std(f1_scores)}')"
   ]
  },
  {
   "cell_type": "markdown",
   "metadata": {},
   "source": [
    "Stress response removed as class"
   ]
  },
  {
   "cell_type": "code",
   "execution_count": 77,
   "metadata": {},
   "outputs": [
    {
     "name": "stdout",
     "output_type": "stream",
     "text": [
      "frontal\n",
      "\tF1 score: 0.14228432207718228, std: 0.024001507924142896\n",
      "central\n",
      "\tF1 score: 0.12802797558151224, std: 0.02408283644427039\n",
      "parietal\n",
      "\tF1 score: 0.13443983510192622, std: 0.03244637513448802\n",
      "frontal2central\n",
      "\tF1 score: 0.11751893707541805, std: 0.035525024657985085\n",
      "frontal2parietal\n",
      "\tF1 score: 0.11519565472775573, std: 0.031896568060066556\n",
      "central2parietal\n",
      "\tF1 score: 0.1300317287405456, std: 0.05905077833918241\n",
      "front2back\n",
      "\tF1 score: 0.15250655297972876, std: 0.0370593287612749\n",
      "left2right\n",
      "\tF1 score: 0.12052739449702003, std: 0.05194412150234549\n"
     ]
    }
   ],
   "source": [
    "kf = StratifiedKFold(n_splits=5, shuffle=True, random_state=92)\n",
    "\n",
    "new_ids = [i for i in range(len(labels)) if labels[i] not in stress_labels]\n",
    "new_labels = [labels[i] for i in new_ids]\n",
    "\n",
    "for k in topo_features_og[0].keys():\n",
    "    if k == 'label':\n",
    "        continue\n",
    "    f1_scores = []\n",
    "    print(k)\n",
    "    features = [topo_features_og[i][k].flatten() for i in new_ids]\n",
    "    for i, (train, test) in enumerate(kf.split(list(range(len(new_labels))), new_labels)):\n",
    "        clf = KNeighborsClassifier()\n",
    "        X_train = np.array(features)[train]\n",
    "        X_test = np.array(features)[test]\n",
    "        y_train = np.array(new_labels)[train]\n",
    "        y_test = np.array(new_labels)[test]\n",
    "        clf.fit(X_train, y_train)   \n",
    "        f1_scores.append(f1_score(y_test, clf.predict(X_test), average='macro'))\n",
    "\n",
    "    print(f'\\tF1 score: {np.mean(f1_scores)}, std: {np.std(f1_scores)}')"
   ]
  },
  {
   "cell_type": "markdown",
   "metadata": {},
   "source": [
    "### All features"
   ]
  },
  {
   "cell_type": "code",
   "execution_count": 103,
   "metadata": {},
   "outputs": [
    {
     "name": "stdout",
     "output_type": "stream",
     "text": [
      "F1 score: 0.0955267794837589, std: 0.024501477150044748\n"
     ]
    }
   ],
   "source": [
    "kf = StratifiedKFold(n_splits=5, shuffle=True, random_state=92)\n",
    "\n",
    "features = []\n",
    "for i in range(len(labels)):\n",
    "    features.append(np.concatenate([topo_features_og[i][k].flatten() for k in topo_features_og[0].keys() if k != 'label']))\n",
    "f1_scores = []\n",
    "for i, (train, test) in enumerate(kf.split(list(range(len(labels))), labels)):\n",
    "    clf = KNeighborsClassifier()\n",
    "    X_train = np.array(features)[train]\n",
    "    X_test = np.array(features)[test]\n",
    "    y_train = np.array(labels)[train]\n",
    "    y_test = np.array(labels)[test]\n",
    "    clf.fit(X_train, y_train)   \n",
    "    f1_scores.append(f1_score(y_test, clf.predict(X_test), average='macro'))\n",
    "\n",
    "print(f'F1 score: {np.mean(f1_scores)}, std: {np.std(f1_scores)}')"
   ]
  },
  {
   "cell_type": "code",
   "execution_count": 104,
   "metadata": {},
   "outputs": [
    {
     "name": "stdout",
     "output_type": "stream",
     "text": [
      "F1 score: 0.15253638270687114, std: 0.050638889473513096\n"
     ]
    }
   ],
   "source": [
    "kf = StratifiedKFold(n_splits=5, shuffle=True, random_state=92)\n",
    "\n",
    "features = []\n",
    "for i in range(len(labels)):\n",
    "    features.append(np.concatenate([topo_features_og[i][k].flatten() for k in ['frontal', 'central', 'parietal']]))\n",
    "f1_scores = []\n",
    "for i, (train, test) in enumerate(kf.split(list(range(len(labels))), labels)):\n",
    "    clf = KNeighborsClassifier()\n",
    "    X_train = np.array(features)[train]\n",
    "    X_test = np.array(features)[test]\n",
    "    y_train = np.array(labels)[train]\n",
    "    y_test = np.array(labels)[test]\n",
    "    clf.fit(X_train, y_train)   \n",
    "    f1_scores.append(f1_score(y_test, clf.predict(X_test), average='macro'))\n",
    "\n",
    "print(f'F1 score: {np.mean(f1_scores)}, std: {np.std(f1_scores)}')"
   ]
  },
  {
   "cell_type": "code",
   "execution_count": 105,
   "metadata": {},
   "outputs": [
    {
     "name": "stdout",
     "output_type": "stream",
     "text": [
      "F1 score: 0.09192030755785453, std: 0.027617024762315912\n"
     ]
    }
   ],
   "source": [
    "kf = StratifiedKFold(n_splits=5, shuffle=True, random_state=92)\n",
    "\n",
    "features = []\n",
    "for i in range(len(labels)):\n",
    "    features.append(np.concatenate([topo_features_og[i][k].flatten() for k in ['frontal2central', 'frontal2parietal', 'central2parietal']]))\n",
    "f1_scores = []\n",
    "for i, (train, test) in enumerate(kf.split(list(range(len(labels))), labels)):\n",
    "    clf = KNeighborsClassifier()\n",
    "    X_train = np.array(features)[train]\n",
    "    X_test = np.array(features)[test]\n",
    "    y_train = np.array(labels)[train]\n",
    "    y_test = np.array(labels)[test]\n",
    "    clf.fit(X_train, y_train)   \n",
    "    f1_scores.append(f1_score(y_test, clf.predict(X_test), average='macro'))\n",
    "\n",
    "print(f'F1 score: {np.mean(f1_scores)}, std: {np.std(f1_scores)}')"
   ]
  },
  {
   "cell_type": "code",
   "execution_count": null,
   "metadata": {},
   "outputs": [
    {
     "name": "stdout",
     "output_type": "stream",
     "text": [
      "F1 score: 0.09068106494867942, std: 0.027668563019389653\n"
     ]
    }
   ],
   "source": [
    "# gives no improvement\n",
    "kf = StratifiedKFold(n_splits=5, shuffle=True, random_state=92)\n",
    "\n",
    "features = []\n",
    "for i in range(len(labels)):\n",
    "    features.append(np.concatenate([topo_features_og[i][k].flatten() for k in ['frontal', 'central', 'parietal', 'central2parietal']]))\n",
    "f1_scores = []\n",
    "for i, (train, test) in enumerate(kf.split(list(range(len(labels))), labels)):\n",
    "    clf = KNeighborsClassifier()\n",
    "    X_train = np.array(features)[train]\n",
    "    X_test = np.array(features)[test]\n",
    "    y_train = np.array(labels)[train]\n",
    "    y_test = np.array(labels)[test]\n",
    "    clf.fit(X_train, y_train)   \n",
    "    f1_scores.append(f1_score(y_test, clf.predict(X_test), average='macro'))\n",
    "\n",
    "print(f'F1 score: {np.mean(f1_scores)}, std: {np.std(f1_scores)}')"
   ]
  },
  {
   "cell_type": "code",
   "execution_count": 106,
   "metadata": {},
   "outputs": [
    {
     "name": "stdout",
     "output_type": "stream",
     "text": [
      "F1 score: 0.1284111926958375, std: 0.03340391906428833\n"
     ]
    }
   ],
   "source": [
    "kf = StratifiedKFold(n_splits=5, shuffle=True, random_state=92)\n",
    "\n",
    "features = []\n",
    "for i in range(len(labels)):\n",
    "    features.append(np.concatenate([topo_features_og[i][k].flatten() for k in ['front2back', 'left2right']]))\n",
    "f1_scores = []\n",
    "for i, (train, test) in enumerate(kf.split(list(range(len(labels))), labels)):\n",
    "    clf = KNeighborsClassifier()\n",
    "    X_train = np.array(features)[train]\n",
    "    X_test = np.array(features)[test]\n",
    "    y_train = np.array(labels)[train]\n",
    "    y_test = np.array(labels)[test]\n",
    "    clf.fit(X_train, y_train)   \n",
    "    f1_scores.append(f1_score(y_test, clf.predict(X_test), average='macro'))\n",
    "\n",
    "print(f'F1 score: {np.mean(f1_scores)}, std: {np.std(f1_scores)}')"
   ]
  },
  {
   "cell_type": "code",
   "execution_count": null,
   "metadata": {},
   "outputs": [
    {
     "name": "stdout",
     "output_type": "stream",
     "text": [
      "F1 score: 0.1112333003673633, std: 0.04347262443343937\n"
     ]
    }
   ],
   "source": [
    "# gives no improvement\n",
    "kf = StratifiedKFold(n_splits=5, shuffle=True, random_state=92)\n",
    "\n",
    "features = []\n",
    "for i in range(len(labels)):\n",
    "    features.append(np.concatenate([topo_features_og[i][k].flatten() for k in ['frontal', 'central', 'parietal', 'left2right']]))\n",
    "f1_scores = []\n",
    "for i, (train, test) in enumerate(kf.split(list(range(len(labels))), labels)):\n",
    "    clf = KNeighborsClassifier()\n",
    "    X_train = np.array(features)[train]\n",
    "    X_test = np.array(features)[test]\n",
    "    y_train = np.array(labels)[train]\n",
    "    y_test = np.array(labels)[test]\n",
    "    clf.fit(X_train, y_train)   \n",
    "    f1_scores.append(f1_score(y_test, clf.predict(X_test), average='macro'))\n",
    "\n",
    "print(f'F1 score: {np.mean(f1_scores)}, std: {np.std(f1_scores)}')"
   ]
  },
  {
   "cell_type": "markdown",
   "metadata": {},
   "source": [
    "### Stat analysis?"
   ]
  },
  {
   "cell_type": "markdown",
   "metadata": {},
   "source": [
    "## Closed eyes"
   ]
  },
  {
   "cell_type": "code",
   "execution_count": 119,
   "metadata": {},
   "outputs": [
    {
     "data": {
      "application/vnd.jupyter.widget-view+json": {
       "model_id": "f283e34bb6e04a6185af85aa6385a41e",
       "version_major": 2,
       "version_minor": 0
      },
      "text/plain": [
       "  0%|          | 0/518 [00:00<?, ?it/s]"
      ]
     },
     "metadata": {},
     "output_type": "display_data"
    }
   ],
   "source": [
    "channels2use = ['Fp1', 'Fp2', 'F3', 'Fz', 'F4', 'F7', 'F8', 'T3', 'T4', 'C3', 'Cz', 'C4', 'T5', 'T6', 'P3', 'Pz', 'P4', 'O1', 'O2']\n",
    "freq_bands = [(6, 8), (8, 10), (10, 12), (12, 14), (13, 20), (20, 26), (8, 13), (13, 26), (8, 26), (6, 26)]\n",
    "\n",
    "classifiers = {'SVM': SVC(random_state=92), 'KNN': KNeighborsClassifier()}\n",
    "\n",
    "topo_features_zg = []\n",
    "\n",
    "to_skip = ['BORUTTO_JANNA_VLADIMIROVNA', 'Kutuz_f23_contr', 'MANUILOVA_ELENA_55', 'Martinenko_m45', 'Skopincev_20', 'FiAV_m50']\n",
    "\n",
    "for i in tqdm(range(len(zg_files))):\n",
    "    path = zg_files[i]\n",
    "    if any([x in path for x in to_skip]):\n",
    "        continue\n",
    "    try:\n",
    "        sample = mne.io.read_raw_edf(path, verbose=False, preload=True)\n",
    "    except Exception as e:\n",
    "        print(f'skipped {path}')\n",
    "        continue\n",
    "    # skip faulty data for now\n",
    "    if 'chan' in sample.ch_names[0].lower():\n",
    "        print(f'skipped {path}')\n",
    "        continue\n",
    "    sample = sample.filter(l_freq=1, h_freq=30, method='iir', verbose=False)\n",
    "    # get only necessary channels, reorder them\n",
    "    channels = sample.ch_names\n",
    "    to_drop = channels[19:]\n",
    "    sample.drop_channels(to_drop)\n",
    "    new_idx = []\n",
    "    skip = False\n",
    "    for ch in channels2use:\n",
    "        found = False\n",
    "        for k in range(19):\n",
    "            if ch in channels[k]:\n",
    "                new_idx.append(k)\n",
    "                found = True\n",
    "                break\n",
    "        if not found:\n",
    "            skip = True\n",
    "            break\n",
    "    if skip:\n",
    "        print(f'skipped {path}')\n",
    "        continue\n",
    "    \n",
    "    data = sample.get_data()[new_idx, :int(13 * s_freq)]\n",
    "    s_freq = int(sample.info['sfreq'])\n",
    "    psd, freqs = mne.time_frequency.psd_array_multitaper(data, sfreq=s_freq, fmin=0.5, fmax=30, normalization='length', verbose=False)\n",
    "    topo_features_zg.append({\n",
    "        'frontal': get_frontal_features(channels, psd),\n",
    "        'central': get_central_features(channels, psd),\n",
    "        'parietal': get_parietal_features(channels, psd),\n",
    "        'frontal2central': get_frontal2central_gradient(channels, psd),\n",
    "        'frontal2parietal': get_frontal2parietal_gradient(channels, psd),\n",
    "        'central2parietal': get_central2parietal_gradient(channels, psd),\n",
    "        'front2back': get_front2back_gradient(channels, psd),\n",
    "        'left2right': get_left2right_gradient(channels, psd),\n",
    "        'label': zg_labels[i]\n",
    "    })"
   ]
  },
  {
   "cell_type": "code",
   "execution_count": 120,
   "metadata": {},
   "outputs": [],
   "source": [
    "frontal_features = [x['frontal'] for x in topo_features_zg]\n",
    "central_features = [x['central'] for x in topo_features_zg]\n",
    "parietal_features = [x['parietal'] for x in topo_features_zg]\n",
    "frontal2central_features = [x['frontal2central'] for x in topo_features_zg]\n",
    "frontal2parietal_features = [x['frontal2parietal'] for x in topo_features_zg]\n",
    "central2parietal_features = [x['central2parietal'] for x in topo_features_zg]\n",
    "front2back_features = [x['front2back'] for x in topo_features_zg]\n",
    "left2right_features = [x['left2right'] for x in topo_features_zg]\n",
    "labels = [x['label'] for x in topo_features_zg]"
   ]
  },
  {
   "cell_type": "markdown",
   "metadata": {},
   "source": [
    "### Features one by one"
   ]
  },
  {
   "cell_type": "markdown",
   "metadata": {},
   "source": [
    "All labels"
   ]
  },
  {
   "cell_type": "code",
   "execution_count": 121,
   "metadata": {},
   "outputs": [
    {
     "name": "stdout",
     "output_type": "stream",
     "text": [
      "frontal\n",
      "\tF1 score: 0.12976919313541488, std: 0.03331798632837232\n",
      "central\n",
      "\tF1 score: 0.14141747662604853, std: 0.016829266786306495\n",
      "parietal\n",
      "\tF1 score: 0.11723079768003453, std: 0.03701843408594934\n",
      "frontal2central\n",
      "\tF1 score: 0.09969380533973904, std: 0.037221849556686906\n",
      "frontal2parietal\n",
      "\tF1 score: 0.11845553740554782, std: 0.031759880712988846\n",
      "central2parietal\n",
      "\tF1 score: 0.11185274344459609, std: 0.03006002327910206\n",
      "front2back\n",
      "\tF1 score: 0.12002205312738017, std: 0.025111508041410335\n",
      "left2right\n",
      "\tF1 score: 0.0620403544033275, std: 0.014041766357170363\n"
     ]
    }
   ],
   "source": [
    "kf = StratifiedKFold(n_splits=5, shuffle=True, random_state=92)\n",
    "\n",
    "for k in topo_features_zg[0].keys():\n",
    "    if k == 'label':\n",
    "        continue\n",
    "    f1_scores = []\n",
    "    print(k)\n",
    "    features = [x[k].flatten() for x in topo_features_zg]\n",
    "    for i, (train, test) in enumerate(kf.split(list(range(len(labels))), labels)):\n",
    "        clf = KNeighborsClassifier()\n",
    "        X_train = np.array(features)[train]\n",
    "        X_test = np.array(features)[test]\n",
    "        y_train = np.array(labels)[train]\n",
    "        y_test = np.array(labels)[test]\n",
    "        clf.fit(X_train, y_train)   \n",
    "        f1_scores.append(f1_score(y_test, clf.predict(X_test), average='macro'))\n",
    "\n",
    "    print(f'\\tF1 score: {np.mean(f1_scores)}, std: {np.std(f1_scores)}')"
   ]
  },
  {
   "cell_type": "markdown",
   "metadata": {},
   "source": [
    "Broad categories"
   ]
  },
  {
   "cell_type": "code",
   "execution_count": 123,
   "metadata": {},
   "outputs": [
    {
     "name": "stdout",
     "output_type": "stream",
     "text": [
      "frontal\n",
      "\tF1 score: 0.21859389616061903, std: 0.07933795307490775\n",
      "central\n",
      "\tF1 score: 0.19436420451362107, std: 0.032912563322366604\n",
      "parietal\n",
      "\tF1 score: 0.1681550383842781, std: 0.05019505090061975\n",
      "frontal2central\n",
      "\tF1 score: 0.14823737010722554, std: 0.037935489903403334\n",
      "frontal2parietal\n",
      "\tF1 score: 0.16686885172225396, std: 0.052130254844792855\n",
      "central2parietal\n",
      "\tF1 score: 0.16831473771437494, std: 0.031177688869385514\n",
      "front2back\n",
      "\tF1 score: 0.15557972194257774, std: 0.05544135205729288\n",
      "left2right\n",
      "\tF1 score: 0.11873261319844786, std: 0.03136688451649841\n"
     ]
    }
   ],
   "source": [
    "kf = StratifiedKFold(n_splits=5, shuffle=True, random_state=92)\n",
    "classes = [label2class[x] for x in labels]\n",
    "\n",
    "for k in topo_features_zg[0].keys():\n",
    "    if k == 'label':\n",
    "        continue\n",
    "    f1_scores = []\n",
    "    print(k)\n",
    "    features = [x[k].flatten() for x in topo_features_zg]\n",
    "    for i, (train, test) in enumerate(kf.split(list(range(len(classes))), classes)):\n",
    "        clf = KNeighborsClassifier()\n",
    "        X_train = np.array(features)[train]\n",
    "        X_test = np.array(features)[test]\n",
    "        y_train = np.array(classes)[train]\n",
    "        y_test = np.array(classes)[test]\n",
    "        clf.fit(X_train, y_train)   \n",
    "        f1_scores.append(f1_score(y_test, clf.predict(X_test), average='macro'))\n",
    "\n",
    "    print(f'\\tF1 score: {np.mean(f1_scores)}, std: {np.std(f1_scores)}')"
   ]
  },
  {
   "cell_type": "markdown",
   "metadata": {},
   "source": [
    "Stress response removed as class"
   ]
  },
  {
   "cell_type": "code",
   "execution_count": 124,
   "metadata": {},
   "outputs": [
    {
     "name": "stdout",
     "output_type": "stream",
     "text": [
      "frontal\n",
      "\tF1 score: 0.1370273163656369, std: 0.02466818620837538\n",
      "central\n",
      "\tF1 score: 0.1617249548682112, std: 0.0304164411322227\n",
      "parietal\n",
      "\tF1 score: 0.13347793362897656, std: 0.016218306070898383\n",
      "frontal2central\n",
      "\tF1 score: 0.1266377942552916, std: 0.0377354587365152\n",
      "frontal2parietal\n",
      "\tF1 score: 0.147489159901878, std: 0.04781762248036987\n",
      "central2parietal\n",
      "\tF1 score: 0.11604610250880217, std: 0.03441600487617146\n",
      "front2back\n",
      "\tF1 score: 0.15841881215564604, std: 0.035238039123653545\n",
      "left2right\n",
      "\tF1 score: 0.08711616772518153, std: 0.017850978379902488\n"
     ]
    }
   ],
   "source": [
    "kf = StratifiedKFold(n_splits=5, shuffle=True, random_state=92)\n",
    "\n",
    "new_ids = [i for i in range(len(labels)) if labels[i] not in stress_labels]\n",
    "new_labels = [labels[i] for i in new_ids]\n",
    "\n",
    "for k in topo_features_zg[0].keys():\n",
    "    if k == 'label':\n",
    "        continue\n",
    "    f1_scores = []\n",
    "    print(k)\n",
    "    features = [topo_features_zg[i][k].flatten() for i in new_ids]\n",
    "    for i, (train, test) in enumerate(kf.split(list(range(len(new_labels))), new_labels)):\n",
    "        clf = KNeighborsClassifier()\n",
    "        X_train = np.array(features)[train]\n",
    "        X_test = np.array(features)[test]\n",
    "        y_train = np.array(new_labels)[train]\n",
    "        y_test = np.array(new_labels)[test]\n",
    "        clf.fit(X_train, y_train)   \n",
    "        f1_scores.append(f1_score(y_test, clf.predict(X_test), average='macro'))\n",
    "\n",
    "    print(f'\\tF1 score: {np.mean(f1_scores)}, std: {np.std(f1_scores)}')"
   ]
  },
  {
   "cell_type": "markdown",
   "metadata": {},
   "source": [
    "### All features"
   ]
  },
  {
   "cell_type": "code",
   "execution_count": 125,
   "metadata": {},
   "outputs": [
    {
     "name": "stdout",
     "output_type": "stream",
     "text": [
      "F1 score: 0.106378336735964, std: 0.04928315813869875\n"
     ]
    }
   ],
   "source": [
    "kf = StratifiedKFold(n_splits=5, shuffle=True, random_state=92)\n",
    "\n",
    "features = []\n",
    "for i in range(len(labels)):\n",
    "    features.append(np.concatenate([topo_features_zg[i][k].flatten() for k in topo_features_zg[0].keys() if k != 'label']))\n",
    "f1_scores = []\n",
    "for i, (train, test) in enumerate(kf.split(list(range(len(labels))), labels)):\n",
    "    clf = KNeighborsClassifier()\n",
    "    X_train = np.array(features)[train]\n",
    "    X_test = np.array(features)[test]\n",
    "    y_train = np.array(labels)[train]\n",
    "    y_test = np.array(labels)[test]\n",
    "    clf.fit(X_train, y_train)   \n",
    "    f1_scores.append(f1_score(y_test, clf.predict(X_test), average='macro'))\n",
    "\n",
    "print(f'F1 score: {np.mean(f1_scores)}, std: {np.std(f1_scores)}')"
   ]
  },
  {
   "cell_type": "code",
   "execution_count": 126,
   "metadata": {},
   "outputs": [
    {
     "name": "stdout",
     "output_type": "stream",
     "text": [
      "F1 score: 0.1631519287050073, std: 0.029819053871439537\n"
     ]
    }
   ],
   "source": [
    "kf = StratifiedKFold(n_splits=5, shuffle=True, random_state=92)\n",
    "\n",
    "features = []\n",
    "for i in range(len(labels)):\n",
    "    features.append(np.concatenate([topo_features_zg[i][k].flatten() for k in ['frontal', 'central', 'parietal']]))\n",
    "f1_scores = []\n",
    "for i, (train, test) in enumerate(kf.split(list(range(len(labels))), labels)):\n",
    "    clf = KNeighborsClassifier()\n",
    "    X_train = np.array(features)[train]\n",
    "    X_test = np.array(features)[test]\n",
    "    y_train = np.array(labels)[train]\n",
    "    y_test = np.array(labels)[test]\n",
    "    clf.fit(X_train, y_train)   \n",
    "    f1_scores.append(f1_score(y_test, clf.predict(X_test), average='macro'))\n",
    "\n",
    "print(f'F1 score: {np.mean(f1_scores)}, std: {np.std(f1_scores)}')"
   ]
  },
  {
   "cell_type": "code",
   "execution_count": 127,
   "metadata": {},
   "outputs": [
    {
     "name": "stdout",
     "output_type": "stream",
     "text": [
      "F1 score: 0.09402330446309448, std: 0.04581963144160866\n"
     ]
    }
   ],
   "source": [
    "kf = StratifiedKFold(n_splits=5, shuffle=True, random_state=92)\n",
    "\n",
    "features = []\n",
    "for i in range(len(labels)):\n",
    "    features.append(np.concatenate([topo_features_zg[i][k].flatten() for k in ['frontal2central', 'frontal2parietal', 'central2parietal']]))\n",
    "f1_scores = []\n",
    "for i, (train, test) in enumerate(kf.split(list(range(len(labels))), labels)):\n",
    "    clf = KNeighborsClassifier()\n",
    "    X_train = np.array(features)[train]\n",
    "    X_test = np.array(features)[test]\n",
    "    y_train = np.array(labels)[train]\n",
    "    y_test = np.array(labels)[test]\n",
    "    clf.fit(X_train, y_train)   \n",
    "    f1_scores.append(f1_score(y_test, clf.predict(X_test), average='macro'))\n",
    "\n",
    "print(f'F1 score: {np.mean(f1_scores)}, std: {np.std(f1_scores)}')"
   ]
  },
  {
   "cell_type": "code",
   "execution_count": null,
   "metadata": {},
   "outputs": [
    {
     "name": "stdout",
     "output_type": "stream",
     "text": [
      "F1 score: 0.11185274344459609, std: 0.03006002327910206\n"
     ]
    }
   ],
   "source": [
    "# no improvement\n",
    "kf = StratifiedKFold(n_splits=5, shuffle=True, random_state=92)\n",
    "\n",
    "features = []\n",
    "for i in range(len(labels)):\n",
    "    features.append(np.concatenate([topo_features_zg[i][k].flatten() for k in ['frontal', 'central', 'parietal', 'central2parietal']]))\n",
    "f1_scores = []\n",
    "for i, (train, test) in enumerate(kf.split(list(range(len(labels))), labels)):\n",
    "    clf = KNeighborsClassifier()\n",
    "    X_train = np.array(features)[train]\n",
    "    X_test = np.array(features)[test]\n",
    "    y_train = np.array(labels)[train]\n",
    "    y_test = np.array(labels)[test]\n",
    "    clf.fit(X_train, y_train)   \n",
    "    f1_scores.append(f1_score(y_test, clf.predict(X_test), average='macro'))\n",
    "\n",
    "print(f'F1 score: {np.mean(f1_scores)}, std: {np.std(f1_scores)}')"
   ]
  },
  {
   "cell_type": "code",
   "execution_count": 131,
   "metadata": {},
   "outputs": [
    {
     "name": "stdout",
     "output_type": "stream",
     "text": [
      "F1 score: 0.09834593232855646, std: 0.05175936428859388\n"
     ]
    }
   ],
   "source": [
    "kf = StratifiedKFold(n_splits=5, shuffle=True, random_state=92)\n",
    "\n",
    "features = []\n",
    "for i in range(len(labels)):\n",
    "    features.append(np.concatenate([topo_features_zg[i][k].flatten() for k in ['front2back', 'left2right']]))\n",
    "f1_scores = []\n",
    "for i, (train, test) in enumerate(kf.split(list(range(len(labels))), labels)):\n",
    "    clf = KNeighborsClassifier()\n",
    "    X_train = np.array(features)[train]\n",
    "    X_test = np.array(features)[test]\n",
    "    y_train = np.array(labels)[train]\n",
    "    y_test = np.array(labels)[test]\n",
    "    clf.fit(X_train, y_train)   \n",
    "    f1_scores.append(f1_score(y_test, clf.predict(X_test), average='macro'))\n",
    "\n",
    "print(f'F1 score: {np.mean(f1_scores)}, std: {np.std(f1_scores)}')"
   ]
  },
  {
   "cell_type": "code",
   "execution_count": 133,
   "metadata": {},
   "outputs": [
    {
     "name": "stdout",
     "output_type": "stream",
     "text": [
      "F1 score: 0.0620403544033275, std: 0.014041766357170363\n"
     ]
    }
   ],
   "source": [
    "# no improvement\n",
    "kf = StratifiedKFold(n_splits=5, shuffle=True, random_state=92)\n",
    "\n",
    "features = []\n",
    "for i in range(len(labels)):\n",
    "    features.append(np.concatenate([topo_features_zg[i][k].flatten() for k in ['frontal', 'central', 'parietal', 'left2right']]))\n",
    "f1_scores = []\n",
    "for i, (train, test) in enumerate(kf.split(list(range(len(labels))), labels)):\n",
    "    clf = KNeighborsClassifier()\n",
    "    X_train = np.array(features)[train]\n",
    "    X_test = np.array(features)[test]\n",
    "    y_train = np.array(labels)[train]\n",
    "    y_test = np.array(labels)[test]\n",
    "    clf.fit(X_train, y_train)   \n",
    "    f1_scores.append(f1_score(y_test, clf.predict(X_test), average='macro'))\n",
    "\n",
    "print(f'F1 score: {np.mean(f1_scores)}, std: {np.std(f1_scores)}')"
   ]
  },
  {
   "cell_type": "code",
   "execution_count": null,
   "metadata": {},
   "outputs": [],
   "source": []
  }
 ],
 "metadata": {
  "kernelspec": {
   "display_name": "Python 3",
   "language": "python",
   "name": "python3"
  },
  "language_info": {
   "codemirror_mode": {
    "name": "ipython",
    "version": 3
   },
   "file_extension": ".py",
   "mimetype": "text/x-python",
   "name": "python",
   "nbconvert_exporter": "python",
   "pygments_lexer": "ipython3",
   "version": "3.11.9"
  }
 },
 "nbformat": 4,
 "nbformat_minor": 2
}
