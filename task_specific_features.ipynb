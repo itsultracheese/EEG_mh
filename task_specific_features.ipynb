{
 "cells": [
  {
   "cell_type": "code",
   "execution_count": 1,
   "metadata": {},
   "outputs": [],
   "source": [
    "import os\n",
    "import mne\n",
    "import PyQt6\n",
    "import numpy as np\n",
    "import matplotlib\n",
    "import matplotlib.pyplot as plt\n",
    "from tqdm.notebook import tqdm\n",
    "\n",
    "from collections import Counter\n",
    "\n",
    "import warnings\n",
    "warnings.filterwarnings('ignore')\n",
    "\n",
    "from sklearn.ensemble import RandomForestClassifier\n",
    "from sklearn.svm import SVC\n",
    "from sklearn.neighbors import KNeighborsClassifier\n",
    "from sklearn.metrics import accuracy_score, roc_auc_score, confusion_matrix, classification_report, f1_score\n",
    "from sklearn.model_selection import StratifiedKFold\n",
    "\n",
    "from scipy import stats\n",
    "from scipy.stats import ttest_rel\n",
    "from scipy.stats import false_discovery_control\n",
    "\n",
    "%matplotlib qt"
   ]
  },
  {
   "cell_type": "code",
   "execution_count": 2,
   "metadata": {},
   "outputs": [
    {
     "name": "stdout",
     "output_type": "stream",
     "text": [
      "Number of files for open eyes: 363\n",
      "Number of files for closed eyes: 363\n"
     ]
    }
   ],
   "source": [
    "folders = os.listdir('bipolar/')\n",
    "\n",
    "fldr2label = {\n",
    "    'control (160)': 0,\n",
    "    'Биполярка депресс тип (35)': 4,\n",
    "    'Биполярка маниакальный тип (36)': 5,\n",
    "    'мания_психи(30)': 6,\n",
    "    'циклотимия (13)': 7,\n",
    "    'depressed_32-0(22)': 1,\n",
    "    'depressed_32-1(44)': 2,\n",
    "    'depressed_32-2(22)': 3,\n",
    "}\n",
    "og_files = []\n",
    "zg_files = []\n",
    "og_labels = []\n",
    "zg_labels = []\n",
    "for fldr in folders:\n",
    "    pth =  'bipolar/' + fldr\n",
    "    og_pths = [x for x in os.listdir(pth) if x.lower().endswith('.edf') and ('og.' in x.lower() or 'ог.' in x.lower() or '_ог' in x.lower() or 'eo' in x.lower())]\n",
    "    zg_pths = [x for x in os.listdir(pth) if x.lower().endswith('.edf') and ('zg.' in x.lower() or 'зг.' in x.lower() or '_зг' in x.lower() or 'ec' in x.lower() or 'fon.' in x.lower() or 'eс' in x.lower())]\n",
    "    for f in og_pths:\n",
    "        og_files.append(pth + '/' + f)\n",
    "        og_labels.append(fldr2label[fldr])\n",
    "    for f in zg_pths:\n",
    "        zg_files.append(pth + '/' + f)\n",
    "        zg_labels.append(fldr2label[fldr])\n",
    "\n",
    "print(f'Number of files for open eyes: {len(og_files)}')\n",
    "print(f'Number of files for closed eyes: {len(zg_files)}')"
   ]
  },
  {
   "cell_type": "markdown",
   "metadata": {},
   "source": [
    "## Fractal dimensionality"
   ]
  },
  {
   "cell_type": "code",
   "execution_count": 3,
   "metadata": {},
   "outputs": [],
   "source": [
    "from mne_features.univariate import compute_higuchi_fd"
   ]
  },
  {
   "cell_type": "code",
   "execution_count": 54,
   "metadata": {},
   "outputs": [
    {
     "data": {
      "application/vnd.jupyter.widget-view+json": {
       "model_id": "01740f30cc95402281b8a013fc3753f7",
       "version_major": 2,
       "version_minor": 0
      },
      "text/plain": [
       "  0%|          | 0/363 [00:00<?, ?it/s]"
      ]
     },
     "metadata": {},
     "output_type": "display_data"
    },
    {
     "name": "stdout",
     "output_type": "stream",
     "text": [
      "skipped bipolar/control (160)/BORUTTO_JANNA_VLADIMIROVNA_48_EO_free.edf and bipolar/control (160)/BORUTTO_JANNA_VLADIMIROVNA_48_EC_free.edf\n",
      "skipped bipolar/control (160)/MANUILOVA_ELENA_55_EO_free.edf and bipolar/control (160)/MANUILOVA_ELENA_55_EC_free.edf\n",
      "skipped bipolar/control (160)/Martinenko_45_EO.edf and bipolar/control (160)/Martinenko_45_EC_free.edf\n",
      "skipped bipolar/control (160)/Skopincev_20_EO_free.edf\n"
     ]
    }
   ],
   "source": [
    "channels2use = ['Fp1', 'Fp2', 'F3', 'Fz', 'F4', 'F7', 'F8', 'T3', 'T4', 'C3', 'Cz', 'C4', 'T5', 'T6', 'P3', 'Pz', 'P4', 'O1', 'O2']\n",
    "name_pairs = [('Fp1', 'Fp2'), ('F3', 'F4'), ('F7', 'F8'), ('C3', 'C4'), ('T3', 'T4'), ('P3', 'P4'), ('T5', 'T6'), ('O1', 'O2')]\n",
    "idx_pairs = [(0, 1), (2, 4), (5, 6), (9, 11), (7, 8), (14, 16), (12, 13), (17, 18)]\n",
    "\n",
    "def get_data_from_sample(sample):\n",
    "    data = None\n",
    "    sample = sample.filter(l_freq=1, h_freq=30, method='iir', verbose=False)\n",
    "    channels = sample.ch_names\n",
    "    to_drop = channels[19:]\n",
    "    sample.drop_channels(to_drop)\n",
    "\n",
    "    new_idx = []\n",
    "    skip = False\n",
    "    for ch in channels2use:\n",
    "        found = False\n",
    "        for k in range(19):\n",
    "            if ch in channels[k]:\n",
    "                new_idx.append(k)\n",
    "                found = True\n",
    "                break\n",
    "        if not found:\n",
    "            skip = True\n",
    "            break\n",
    "    if not skip:\n",
    "        s_freq = int(sample.info['sfreq'])\n",
    "        data = sample.get_data()[new_idx]\n",
    "    return data\n",
    "\n",
    "def compute_hfd(data, s_freq):\n",
    "    # psd, freqs = mne.time_frequency.psd_array_welch(data, sfreq=s_freq, fmin=4, fmax=7, n_fft=1024, n_per_seg=s_freq, verbose=False)\n",
    "    # psd_avg = np.mean(psd, axis=1)\n",
    "    hfd = compute_higuchi_fd(data)\n",
    "    return hfd\n",
    "\n",
    "hfds_og, hfds_zg = [], []\n",
    "labels_og, labels_zg = [], []\n",
    "for i in tqdm(range(len(og_files))):\n",
    "    path_og = og_files[i]\n",
    "    path_zg = zg_files[i]\n",
    "    try:\n",
    "        sample_og = mne.io.read_raw_edf(path_og, verbose=False, preload=True)\n",
    "    except Exception as e:\n",
    "        print(f'skipped {path_og}')\n",
    "        continue\n",
    "\n",
    "    sample_zg = mne.io.read_raw_edf(path_zg, verbose=False, preload=True)\n",
    "    s_freq_og = int(sample_og.info['sfreq'])\n",
    "    s_freq_zg = int(sample_zg.info['sfreq'])\n",
    "    data_og = get_data_from_sample(sample_og)\n",
    "    data_zg = get_data_from_sample(sample_zg)\n",
    "    if data_og is None or data_zg is None:\n",
    "        print(f'skipped {path_og} and {path_zg}')\n",
    "    else:\n",
    "        max_len = max(data_og.shape[1], data_zg.shape[1])\n",
    "        data_og = data_og[:, :max_len]\n",
    "        data_zg = data_zg[:, :max_len]\n",
    "\n",
    "        hfd_og = compute_hfd(data_og, s_freq_og)\n",
    "        hfd_zg = compute_hfd(data_zg, s_freq_zg)\n",
    "        hfds_og.append(hfd_og)\n",
    "        hfds_zg.append(hfd_zg)\n",
    "        labels_og.append(og_labels[i])\n",
    "        labels_zg.append(zg_labels[i])"
   ]
  },
  {
   "cell_type": "code",
   "execution_count": 55,
   "metadata": {},
   "outputs": [],
   "source": [
    "hfds_og = np.array(hfds_og)\n",
    "hfds_zg = np.array(hfds_zg)\n",
    "labels_og = np.array(labels_og)\n",
    "labels_zg = np.array(labels_zg)"
   ]
  },
  {
   "cell_type": "code",
   "execution_count": 24,
   "metadata": {},
   "outputs": [
    {
     "data": {
      "text/plain": [
       "array([1.97042369e-01, 1.15007669e-02, 2.78867799e-01, 4.47340213e-02,\n",
       "       4.43026645e-02, 4.88909155e-01, 4.47340213e-02, 4.47340213e-02,\n",
       "       1.00439038e-01, 8.42394391e-03, 4.13654059e-03, 7.83878194e-05,\n",
       "       1.33173331e-15, 1.32786122e-09, 2.30017568e-03, 1.52739617e-03,\n",
       "       2.26997344e-05, 4.47340213e-02, 6.85711054e-02])"
      ]
     },
     "execution_count": 24,
     "metadata": {},
     "output_type": "execute_result"
    }
   ],
   "source": [
    "false_discovery_control(stats.shapiro(np.array(hfds_og), axis=0)[1])"
   ]
  },
  {
   "cell_type": "code",
   "execution_count": 25,
   "metadata": {},
   "outputs": [
    {
     "data": {
      "text/plain": [
       "array([6.23038485e-09, 2.84023729e-10, 2.18353361e-09, 1.62618298e-07,\n",
       "       8.66755262e-09, 5.46648485e-08, 3.81706424e-09, 7.13256482e-07,\n",
       "       5.90811479e-06, 8.12276451e-10, 1.40572404e-09, 5.17400899e-11,\n",
       "       2.44687624e-18, 1.67933982e-17, 1.70895276e-12, 4.00268535e-11,\n",
       "       3.79124049e-16, 1.92673127e-10, 2.68680294e-13])"
      ]
     },
     "execution_count": 25,
     "metadata": {},
     "output_type": "execute_result"
    }
   ],
   "source": [
    "false_discovery_control(stats.shapiro(np.array(hfds_zg), axis=0)[1])"
   ]
  },
  {
   "cell_type": "markdown",
   "metadata": {},
   "source": [
    "Seems like they are not normally distributed, thus, I will use Mann-Whitney U-test."
   ]
  },
  {
   "cell_type": "markdown",
   "metadata": {},
   "source": [
    "### Open vs closed eyes"
   ]
  },
  {
   "cell_type": "markdown",
   "metadata": {},
   "source": [
    "#### All electrodes"
   ]
  },
  {
   "cell_type": "code",
   "execution_count": 30,
   "metadata": {},
   "outputs": [
    {
     "name": "stdout",
     "output_type": "stream",
     "text": [
      "[1.08659730e-38 2.74893629e-42 4.16625859e-42 2.74893629e-42\n",
      " 1.16818906e-43 2.96727873e-41 1.47514386e-42 9.23215257e-27\n",
      " 5.05214039e-33 3.00140400e-31 1.40349717e-38 3.95938592e-37\n",
      " 8.58084340e-37 4.27725142e-44 2.96727873e-41 4.27725142e-44\n",
      " 1.46527028e-45 6.97533487e-40 4.20507025e-41]\n"
     ]
    }
   ],
   "source": [
    "mw = stats.mannwhitneyu(np.array(hfds_og), np.array(hfds_zg))[1]\n",
    "print(false_discovery_control(mw))"
   ]
  },
  {
   "cell_type": "code",
   "execution_count": 45,
   "metadata": {},
   "outputs": [
    {
     "name": "stdout",
     "output_type": "stream",
     "text": [
      "[5.43298652e-39 1.37446815e-42 2.08312929e-42 1.37446815e-42\n",
      " 5.84094532e-44 1.48363937e-41 7.37571932e-43 4.61607628e-27\n",
      " 2.52607020e-33 1.50070200e-31 7.01748587e-39 1.97969296e-37\n",
      " 4.29042170e-37 2.13862571e-44 1.48363937e-41 2.13862571e-44\n",
      " 7.32635138e-46 3.48766743e-40 2.10253512e-41]\n",
      "MAPE by channels: [6.64518698 7.09615112 6.67046605 6.14305566 6.68949514 6.6731826\n",
      " 6.95754987 6.50076435 6.24285337 5.71776771 5.90256885 5.85261238\n",
      " 7.05363066 7.38651454 6.49860091 6.34692445 6.55006378 7.35559852\n",
      " 7.12583097]\n"
     ]
    }
   ],
   "source": [
    "mw = stats.mannwhitneyu(np.array(hfds_og), np.array(hfds_zg), alternative='greater')[1]\n",
    "print(false_discovery_control(mw))\n",
    "\n",
    "print(f'MAPE by channels: {np.mean(np.abs(hfds_og - hfds_zg) / hfds_og, axis=0) * 100}')"
   ]
  },
  {
   "cell_type": "markdown",
   "metadata": {},
   "source": [
    "#### Combined by zones"
   ]
  },
  {
   "cell_type": "code",
   "execution_count": 46,
   "metadata": {},
   "outputs": [
    {
     "name": "stdout",
     "output_type": "stream",
     "text": [
      "ZONE: frontal\n",
      "MAPE: 6.570\n",
      "\n",
      "ZONE: temporal\n",
      "MAPE: 6.538\n",
      "\n",
      "ZONE: central\n",
      "MAPE: 5.719\n",
      "\n",
      "ZONE: parietal\n",
      "MAPE: 6.404\n",
      "\n",
      "ZONE: occipital\n",
      "MAPE: 7.162\n",
      "\n",
      "[1.67348318e-45 1.50879052e-40 1.16058753e-37 1.60206538e-45\n",
      " 1.54981670e-41]\n"
     ]
    }
   ],
   "source": [
    "zone2ids = {'frontal': [0, 1, 2, 3, 4, 5, 6], 'temporal': [7, 8, 12, 13], 'central': [9, 10, 11], 'parietal': [14, 15, 16], 'occipital': [17, 18]}\n",
    "\n",
    "mws = []\n",
    "for zone in zone2ids.keys():\n",
    "    print(f'ZONE: {zone}')\n",
    "    zone_og = np.mean(hfds_og[:, zone2ids[zone]], axis=1)\n",
    "    zone_zg = np.mean(hfds_zg[:, zone2ids[zone]], axis=1)\n",
    "    mw = stats.mannwhitneyu(zone_og, zone_zg)[1]\n",
    "    mws.append(mw)\n",
    "    print(f'MAPE: {np.mean(np.abs(zone_og - zone_zg) / zone_og, axis=0) * 100 :.3f}')\n",
    "    print()\n",
    "\n",
    "print(false_discovery_control(mws))"
   ]
  },
  {
   "cell_type": "code",
   "execution_count": 47,
   "metadata": {},
   "outputs": [
    {
     "name": "stdout",
     "output_type": "stream",
     "text": [
      "[8.36741591e-46 7.54395258e-41 5.80293767e-38 8.01032690e-46\n",
      " 7.74908352e-42]\n"
     ]
    }
   ],
   "source": [
    "zone2ids = {'frontal': [0, 1, 2, 3, 4, 5, 6], 'temporal': [7, 8, 12, 13], 'central': [9, 10, 11], 'parietal': [14, 15, 16], 'occipital': [17, 18]}\n",
    "\n",
    "mws = []\n",
    "for zone in zone2ids.keys():\n",
    "    zone_og = np.mean(hfds_og[:, zone2ids[zone]], axis=1)\n",
    "    zone_zg = np.mean(hfds_zg[:, zone2ids[zone]], axis=1)\n",
    "    mw = stats.mannwhitneyu(zone_og, zone_zg, alternative='greater')[1]\n",
    "    mws.append(mw)\n",
    "\n",
    "print(false_discovery_control(mws))"
   ]
  },
  {
   "cell_type": "markdown",
   "metadata": {},
   "source": [
    "#### Left vs right vs center"
   ]
  },
  {
   "cell_type": "code",
   "execution_count": 48,
   "metadata": {},
   "outputs": [
    {
     "name": "stdout",
     "output_type": "stream",
     "text": [
      "MAPE: 6.581\n",
      "MAPE: 6.458\n",
      "MAPE: 6.025\n",
      "[2.71430623e-47 2.48949680e-43 1.21363121e-45]\n"
     ]
    }
   ],
   "source": [
    "side2ids = {'right': [1, 4, 6, 8, 11, 13, 16, 18], 'left': [0, 2, 5, 7, 9, 12, 14, 17], 'center': [3, 10, 15]}\n",
    "mws = []\n",
    "for side in side2ids.keys():\n",
    "    side_og = np.mean(hfds_og[:, side2ids[side]], axis=1)\n",
    "    side_zg = np.mean(hfds_zg[:, side2ids[side]], axis=1)\n",
    "    mw = stats.mannwhitneyu(side_og, side_zg, alternative='greater')[1]\n",
    "    mws.append(mw)\n",
    "    print(f'MAPE: {np.mean(np.abs(side_og - side_zg) / side_og, axis=0) * 100 :.3f}')\n",
    "\n",
    "print(false_discovery_control(mws))"
   ]
  },
  {
   "cell_type": "markdown",
   "metadata": {},
   "source": [
    "#### Avg"
   ]
  },
  {
   "cell_type": "code",
   "execution_count": 50,
   "metadata": {},
   "outputs": [
    {
     "name": "stdout",
     "output_type": "stream",
     "text": [
      "9.542281993486255e-47\n",
      "MAPE: 6.425\n"
     ]
    }
   ],
   "source": [
    "avg_og = np.mean(hfds_og, axis=1)\n",
    "avg_zg = np.mean(hfds_zg, axis=1)\n",
    "mw = stats.mannwhitneyu(avg_og, avg_zg)[1]\n",
    "print(mw)\n",
    "print(f'MAPE: {np.mean(np.abs(avg_og - avg_zg) / avg_og, axis=0) * 100 :.3f}')"
   ]
  },
  {
   "cell_type": "markdown",
   "metadata": {},
   "source": [
    "### By diagnoses"
   ]
  },
  {
   "cell_type": "markdown",
   "metadata": {},
   "source": [
    "Open eyes"
   ]
  },
  {
   "cell_type": "code",
   "execution_count": 63,
   "metadata": {},
   "outputs": [
    {
     "name": "stdout",
     "output_type": "stream",
     "text": [
      "KruskalResult(statistic=22.48018102574708, pvalue=0.002098542072566335)\n"
     ]
    }
   ],
   "source": [
    "# simple mean of all channels\n",
    "groups = []\n",
    "\n",
    "for diag, id in fldr2label.items():\n",
    "    grp = hfds_og[labels_og == id].mean(axis=1)\n",
    "    groups.append(grp)\n",
    "\n",
    "print(stats.kruskal(*groups))"
   ]
  },
  {
   "cell_type": "code",
   "execution_count": 71,
   "metadata": {},
   "outputs": [
    {
     "name": "stdout",
     "output_type": "stream",
     "text": [
      "control (160) vs Биполярка депресс тип (35): pvalue 0.396\n",
      "control (160) vs Биполярка маниакальный тип (36): pvalue 0.107\n",
      "control (160) vs мания_психи(30): pvalue 0.107\n",
      "control (160) vs циклотимия (13): pvalue 0.289\n",
      "control (160) vs depressed_32-0(22): pvalue 0.883\n",
      "control (160) vs depressed_32-1(44): pvalue 0.017\n",
      "control (160) vs depressed_32-2(22): pvalue 0.911\n",
      "Биполярка депресс тип (35) vs Биполярка маниакальный тип (36): pvalue 0.533\n",
      "Биполярка депресс тип (35) vs мания_психи(30): pvalue 0.465\n",
      "Биполярка депресс тип (35) vs циклотимия (13): pvalue 0.155\n",
      "Биполярка депресс тип (35) vs depressed_32-0(22): pvalue 0.396\n",
      "Биполярка депресс тип (35) vs depressed_32-1(44): pvalue 0.387\n",
      "Биполярка депресс тип (35) vs depressed_32-2(22): pvalue 0.543\n",
      "Биполярка маниакальный тип (36) vs мания_психи(30): pvalue 0.883\n",
      "Биполярка маниакальный тип (36) vs циклотимия (13): pvalue 0.017\n",
      "Биполярка маниакальный тип (36) vs depressed_32-0(22): pvalue 0.301\n",
      "Биполярка маниакальный тип (36) vs depressed_32-1(44): pvalue 0.396\n",
      "Биполярка маниакальный тип (36) vs depressed_32-2(22): pvalue 0.396\n",
      "мания_психи(30) vs циклотимия (13): pvalue 0.017\n",
      "мания_психи(30) vs depressed_32-0(22): pvalue 0.396\n",
      "мания_психи(30) vs depressed_32-1(44): pvalue 0.465\n",
      "мания_психи(30) vs depressed_32-2(22): pvalue 0.465\n",
      "циклотимия (13) vs depressed_32-0(22): pvalue 0.465\n",
      "циклотимия (13) vs depressed_32-1(44): pvalue 0.017\n",
      "циклотимия (13) vs depressed_32-2(22): pvalue 0.387\n",
      "depressed_32-0(22) vs depressed_32-1(44): pvalue 0.099\n",
      "depressed_32-0(22) vs depressed_32-2(22): pvalue 0.883\n",
      "depressed_32-1(44) vs depressed_32-2(22): pvalue 0.133\n"
     ]
    }
   ],
   "source": [
    "diags = list(fldr2label.keys())\n",
    "pvals = []\n",
    "for i in range(len(diags)):\n",
    "    for j in range(i + 1, len(diags)):\n",
    "        pvals.append(stats.mannwhitneyu(groups[i], groups[j])[1])\n",
    "\n",
    "pvals_corrected = false_discovery_control(pvals)\n",
    "cnt = 0\n",
    "for i in range(len(diags)):\n",
    "    for j in range(i + 1, len(diags)):\n",
    "        print(f'{diags[i]} vs {diags[j]}: pvalue {pvals_corrected[cnt]:.3f}')\n",
    "        cnt += 1"
   ]
  },
  {
   "cell_type": "code",
   "execution_count": 79,
   "metadata": {},
   "outputs": [
    {
     "name": "stdout",
     "output_type": "stream",
     "text": [
      "KruskalResult(statistic=14.402605085959646, pvalue=0.006115005841194129)\n"
     ]
    }
   ],
   "source": [
    "# larger classes\n",
    "label_map = {0: 0, 1: 1, 2: 1, 3: 1, 4: 2, 5: 2, 6: 3, 7: 4}\n",
    "new_classes = {'control': 0, 'depressed': 1, 'bipolar': 2, 'mania': 3, 'cyclotimia': 4}\n",
    "new_labels_og = np.array([label_map[i] for i in labels_og])\n",
    "\n",
    "groups = []\n",
    "for diag, id in new_classes.items():\n",
    "    grp = hfds_og[new_labels_og == id].mean(axis=1)\n",
    "    groups.append(grp)\n",
    "\n",
    "print(stats.kruskal(*groups))"
   ]
  },
  {
   "cell_type": "code",
   "execution_count": 74,
   "metadata": {},
   "outputs": [
    {
     "name": "stdout",
     "output_type": "stream",
     "text": [
      "control vs depressed: pvalue 0.065\n",
      "control vs bipolar: pvalue 0.054\n",
      "control vs mania: pvalue 0.054\n",
      "control vs cyclotimia: pvalue 0.147\n",
      "depressed vs bipolar: pvalue 0.917\n",
      "depressed vs mania: pvalue 0.917\n",
      "depressed vs cyclotimia: pvalue 0.054\n",
      "bipolar vs mania: pvalue 0.864\n",
      "bipolar vs cyclotimia: pvalue 0.030\n",
      "mania vs cyclotimia: pvalue 0.025\n"
     ]
    }
   ],
   "source": [
    "diags = list(new_classes.keys())\n",
    "pvals = []\n",
    "for i in range(len(diags)):\n",
    "    for j in range(i + 1, len(diags)):\n",
    "        pvals.append(stats.mannwhitneyu(groups[i], groups[j])[1])\n",
    "\n",
    "pvals_corrected = false_discovery_control(pvals)\n",
    "cnt = 0\n",
    "for i in range(len(diags)):\n",
    "    for j in range(i + 1, len(diags)):\n",
    "        print(f'{diags[i]} vs {diags[j]}: pvalue {pvals_corrected[cnt]:.3f}')\n",
    "        cnt += 1"
   ]
  },
  {
   "cell_type": "code",
   "execution_count": 94,
   "metadata": {},
   "outputs": [
    {
     "name": "stdout",
     "output_type": "stream",
     "text": [
      "frontal: pvalue 0.058641002419835844\n",
      "temporal: pvalue 0.0017451550817324899\n",
      "central: pvalue 0.058641002419835844\n",
      "parietal: pvalue 0.02179622164717914\n",
      "occipital: pvalue 0.006932663525004479\n"
     ]
    }
   ],
   "source": [
    "# separate zones\n",
    "zone2ids = {'frontal': [0, 1, 2, 3, 4, 5, 6], 'temporal': [7, 8, 12, 13], 'central': [9, 10, 11], 'parietal': [14, 15, 16], 'occipital': [17, 18]}\n",
    "\n",
    "groups = {x: [] for x in zone2ids.keys()}\n",
    "for diag, id in new_classes.items():\n",
    "    grp = hfds_og[new_labels_og == id]\n",
    "    for zone in zone2ids.keys():\n",
    "        zone_og = np.mean(grp[:, zone2ids[zone]], axis=1)\n",
    "        groups[zone].append(zone_og)\n",
    "\n",
    "pvals = []\n",
    "for zone in zone2ids.keys():\n",
    "    pvals.append(stats.kruskal(*groups[zone])[1])\n",
    "pvals_corrected = false_discovery_control(pvals)\n",
    "\n",
    "cnt = 0\n",
    "for zone in zone2ids.keys():\n",
    "    print(f'{zone}: pvalue {pvals_corrected[cnt]}')\n",
    "    cnt += 1"
   ]
  },
  {
   "cell_type": "code",
   "execution_count": 99,
   "metadata": {},
   "outputs": [
    {
     "name": "stdout",
     "output_type": "stream",
     "text": [
      "control vs depressed\n",
      "\tfrontal: pvalue 0.139\n",
      "\ttemporal: pvalue 0.037\n",
      "\tcentral: pvalue 0.305\n",
      "\tparietal: pvalue 0.331\n",
      "\toccipital: pvalue 0.037\n",
      "\n",
      "control vs bipolar\n",
      "\tfrontal: pvalue 0.170\n",
      "\ttemporal: pvalue 0.023\n",
      "\tcentral: pvalue 0.272\n",
      "\tparietal: pvalue 0.139\n",
      "\toccipital: pvalue 0.021\n",
      "\n",
      "control vs mania\n",
      "\tfrontal: pvalue 0.190\n",
      "\ttemporal: pvalue 0.018\n",
      "\tcentral: pvalue 0.743\n",
      "\tparietal: pvalue 0.177\n",
      "\toccipital: pvalue 0.080\n",
      "\n",
      "control vs cyclotimia\n",
      "\tfrontal: pvalue 0.257\n",
      "\ttemporal: pvalue 0.555\n",
      "\tcentral: pvalue 0.138\n",
      "\tparietal: pvalue 0.125\n",
      "\toccipital: pvalue 0.901\n",
      "\n",
      "depressed vs bipolar\n",
      "\tfrontal: pvalue 0.955\n",
      "\ttemporal: pvalue 0.955\n",
      "\tcentral: pvalue 0.975\n",
      "\tparietal: pvalue 0.955\n",
      "\toccipital: pvalue 0.895\n",
      "\n",
      "depressed vs mania\n",
      "\tfrontal: pvalue 0.955\n",
      "\ttemporal: pvalue 0.595\n",
      "\tcentral: pvalue 0.903\n",
      "\tparietal: pvalue 0.973\n",
      "\toccipital: pvalue 0.955\n",
      "\n",
      "depressed vs cyclotimia\n",
      "\tfrontal: pvalue 0.093\n",
      "\ttemporal: pvalue 0.075\n",
      "\tcentral: pvalue 0.037\n",
      "\tparietal: pvalue 0.021\n",
      "\toccipital: pvalue 0.139\n",
      "\n",
      "bipolar vs mania\n",
      "\tfrontal: pvalue 0.903\n",
      "\ttemporal: pvalue 0.557\n",
      "\tcentral: pvalue 0.811\n",
      "\tparietal: pvalue 0.971\n",
      "\toccipital: pvalue 0.916\n",
      "\n",
      "bipolar vs cyclotimia\n",
      "\tfrontal: pvalue 0.080\n",
      "\ttemporal: pvalue 0.037\n",
      "\tcentral: pvalue 0.026\n",
      "\tparietal: pvalue 0.018\n",
      "\toccipital: pvalue 0.091\n",
      "\n",
      "mania vs cyclotimia\n",
      "\tfrontal: pvalue 0.093\n",
      "\ttemporal: pvalue 0.018\n",
      "\tcentral: pvalue 0.048\n",
      "\tparietal: pvalue 0.018\n",
      "\toccipital: pvalue 0.131\n",
      "\n"
     ]
    }
   ],
   "source": [
    "diags = list(new_classes.keys())\n",
    "\n",
    "pvals_unwrapped = []\n",
    "for i in range(len(diags)):\n",
    "    for j in range(i + 1, len(diags)):\n",
    "        for zone in zone2ids.keys():\n",
    "            pvals_unwrapped.append(stats.mannwhitneyu(groups[zone][i], groups[zone][j])[1])\n",
    "\n",
    "pvals_corrected = false_discovery_control(pvals_unwrapped)\n",
    "cnt = 0\n",
    "for i in range(len(diags)):\n",
    "    for j in range(i + 1, len(diags)):\n",
    "        print(f'{diags[i]} vs {diags[j]}')\n",
    "        for zone in zone2ids.keys():\n",
    "            print(f'\\t{zone}: pvalue {pvals_corrected[cnt]:.3f}')\n",
    "            cnt += 1\n",
    "        print()"
   ]
  },
  {
   "cell_type": "markdown",
   "metadata": {},
   "source": [
    "Closed eyes"
   ]
  },
  {
   "cell_type": "code",
   "execution_count": 75,
   "metadata": {},
   "outputs": [
    {
     "name": "stdout",
     "output_type": "stream",
     "text": [
      "KruskalResult(statistic=36.261678449565544, pvalue=6.4698198187972935e-06)\n"
     ]
    }
   ],
   "source": [
    "# simple mean of all channels\n",
    "groups = []\n",
    "\n",
    "for diag, id in fldr2label.items():\n",
    "    grp = hfds_zg[labels_zg == id].mean(axis=1)\n",
    "    groups.append(grp)\n",
    "\n",
    "print(stats.kruskal(*groups))"
   ]
  },
  {
   "cell_type": "code",
   "execution_count": 76,
   "metadata": {},
   "outputs": [
    {
     "name": "stdout",
     "output_type": "stream",
     "text": [
      "control (160) vs Биполярка депресс тип (35): pvalue 0.141\n",
      "control (160) vs Биполярка маниакальный тип (36): pvalue 0.030\n",
      "control (160) vs мания_психи(30): pvalue 0.020\n",
      "control (160) vs циклотимия (13): pvalue 0.299\n",
      "control (160) vs depressed_32-0(22): pvalue 0.880\n",
      "control (160) vs depressed_32-1(44): pvalue 0.000\n",
      "control (160) vs depressed_32-2(22): pvalue 0.723\n",
      "Биполярка депресс тип (35) vs Биполярка маниакальный тип (36): pvalue 0.791\n",
      "Биполярка депресс тип (35) vs мания_психи(30): pvalue 0.723\n",
      "Биполярка депресс тип (35) vs циклотимия (13): pvalue 0.070\n",
      "Биполярка депресс тип (35) vs depressed_32-0(22): pvalue 0.299\n",
      "Биполярка депресс тип (35) vs depressed_32-1(44): pvalue 0.141\n",
      "Биполярка депресс тип (35) vs depressed_32-2(22): pvalue 0.563\n",
      "Биполярка маниакальный тип (36) vs мания_психи(30): pvalue 0.588\n",
      "Биполярка маниакальный тип (36) vs циклотимия (13): pvalue 0.028\n",
      "Биполярка маниакальный тип (36) vs depressed_32-0(22): pvalue 0.141\n",
      "Биполярка маниакальный тип (36) vs depressed_32-1(44): pvalue 0.117\n",
      "Биполярка маниакальный тип (36) vs depressed_32-2(22): pvalue 0.235\n",
      "мания_психи(30) vs циклотимия (13): pvalue 0.020\n",
      "мания_психи(30) vs depressed_32-0(22): pvalue 0.046\n",
      "мания_психи(30) vs depressed_32-1(44): pvalue 0.299\n",
      "мания_психи(30) vs depressed_32-2(22): pvalue 0.182\n",
      "циклотимия (13) vs depressed_32-0(22): pvalue 0.563\n",
      "циклотимия (13) vs depressed_32-1(44): pvalue 0.003\n",
      "циклотимия (13) vs depressed_32-2(22): pvalue 0.197\n",
      "depressed_32-0(22) vs depressed_32-1(44): pvalue 0.016\n",
      "depressed_32-0(22) vs depressed_32-2(22): pvalue 0.864\n",
      "depressed_32-1(44) vs depressed_32-2(22): pvalue 0.029\n"
     ]
    }
   ],
   "source": [
    "diags = list(fldr2label.keys())\n",
    "pvals = []\n",
    "for i in range(len(diags)):\n",
    "    for j in range(i + 1, len(diags)):\n",
    "        pvals.append(stats.mannwhitneyu(groups[i], groups[j])[1])\n",
    "\n",
    "pvals_corrected = false_discovery_control(pvals)\n",
    "cnt = 0\n",
    "for i in range(len(diags)):\n",
    "    for j in range(i + 1, len(diags)):\n",
    "        print(f'{diags[i]} vs {diags[j]}: pvalue {pvals_corrected[cnt]:.3f}')\n",
    "        cnt += 1"
   ]
  },
  {
   "cell_type": "code",
   "execution_count": 85,
   "metadata": {},
   "outputs": [
    {
     "name": "stdout",
     "output_type": "stream",
     "text": [
      "KruskalResult(statistic=22.382405069445834, pvalue=0.0001681779443054103)\n"
     ]
    }
   ],
   "source": [
    "# larger classes\n",
    "label_map = {0: 0, 1: 1, 2: 1, 3: 1, 4: 2, 5: 2, 6: 3, 7: 4}\n",
    "new_classes = {'control': 0, 'depressed': 1, 'bipolar': 2, 'mania': 3, 'cyclotimia': 4}\n",
    "new_labels_zg = np.array([label_map[i] for i in labels_zg])\n",
    "\n",
    "groups = []\n",
    "for diag, id in new_classes.items():\n",
    "    grp = hfds_zg[new_labels_zg == id].mean(axis=1)\n",
    "    groups.append(grp)\n",
    "\n",
    "print(stats.kruskal(*groups))"
   ]
  },
  {
   "cell_type": "code",
   "execution_count": 78,
   "metadata": {},
   "outputs": [
    {
     "name": "stdout",
     "output_type": "stream",
     "text": [
      "control vs depressed: pvalue 0.010\n",
      "control vs bipolar: pvalue 0.010\n",
      "control vs mania: pvalue 0.010\n",
      "control vs cyclotimia: pvalue 0.305\n",
      "depressed vs bipolar: pvalue 0.837\n",
      "depressed vs mania: pvalue 0.585\n",
      "depressed vs cyclotimia: pvalue 0.012\n",
      "bipolar vs mania: pvalue 0.585\n",
      "bipolar vs cyclotimia: pvalue 0.012\n",
      "mania vs cyclotimia: pvalue 0.010\n"
     ]
    }
   ],
   "source": [
    "diags = list(new_classes.keys())\n",
    "pvals = []\n",
    "for i in range(len(diags)):\n",
    "    for j in range(i + 1, len(diags)):\n",
    "        pvals.append(stats.mannwhitneyu(groups[i], groups[j])[1])\n",
    "\n",
    "pvals_corrected = false_discovery_control(pvals)\n",
    "cnt = 0\n",
    "for i in range(len(diags)):\n",
    "    for j in range(i + 1, len(diags)):\n",
    "        print(f'{diags[i]} vs {diags[j]}: pvalue {pvals_corrected[cnt]:.3f}')\n",
    "        cnt += 1"
   ]
  },
  {
   "cell_type": "code",
   "execution_count": 100,
   "metadata": {},
   "outputs": [
    {
     "name": "stdout",
     "output_type": "stream",
     "text": [
      "frontal: pvalue 0.015615423341096023\n",
      "temporal: pvalue 2.989826833002926e-05\n",
      "central: pvalue 0.00024757152501673433\n",
      "parietal: pvalue 7.510633387550245e-06\n",
      "occipital: pvalue 0.00024757152501673433\n"
     ]
    }
   ],
   "source": [
    "# separate zones\n",
    "zone2ids = {'frontal': [0, 1, 2, 3, 4, 5, 6], 'temporal': [7, 8, 12, 13], 'central': [9, 10, 11], 'parietal': [14, 15, 16], 'occipital': [17, 18]}\n",
    "\n",
    "groups = {x: [] for x in zone2ids.keys()}\n",
    "for diag, id in new_classes.items():\n",
    "    grp = hfds_zg[new_labels_zg == id]\n",
    "    for zone in zone2ids.keys():\n",
    "        zone_zg = np.mean(grp[:, zone2ids[zone]], axis=1)\n",
    "        groups[zone].append(zone_zg)\n",
    "\n",
    "pvals = []\n",
    "for zone in zone2ids.keys():\n",
    "    pvals.append(stats.kruskal(*groups[zone])[1])\n",
    "pvals_corrected = false_discovery_control(pvals)\n",
    "\n",
    "cnt = 0\n",
    "for zone in zone2ids.keys():\n",
    "    print(f'{zone}: pvalue {pvals_corrected[cnt]}')\n",
    "    cnt += 1"
   ]
  },
  {
   "cell_type": "code",
   "execution_count": 101,
   "metadata": {},
   "outputs": [
    {
     "name": "stdout",
     "output_type": "stream",
     "text": [
      "control vs depressed\n",
      "\tfrontal: pvalue 0.049\n",
      "\ttemporal: pvalue 0.002\n",
      "\tcentral: pvalue 0.012\n",
      "\tparietal: pvalue 0.005\n",
      "\toccipital: pvalue 0.004\n",
      "\n",
      "control vs bipolar\n",
      "\tfrontal: pvalue 0.044\n",
      "\ttemporal: pvalue 0.005\n",
      "\tcentral: pvalue 0.014\n",
      "\tparietal: pvalue 0.012\n",
      "\toccipital: pvalue 0.023\n",
      "\n",
      "control vs mania\n",
      "\tfrontal: pvalue 0.044\n",
      "\ttemporal: pvalue 0.002\n",
      "\tcentral: pvalue 0.012\n",
      "\tparietal: pvalue 0.004\n",
      "\toccipital: pvalue 0.116\n",
      "\n",
      "control vs cyclotimia\n",
      "\tfrontal: pvalue 0.551\n",
      "\ttemporal: pvalue 0.662\n",
      "\tcentral: pvalue 0.190\n",
      "\tparietal: pvalue 0.020\n",
      "\toccipital: pvalue 0.269\n",
      "\n",
      "depressed vs bipolar\n",
      "\tfrontal: pvalue 0.920\n",
      "\ttemporal: pvalue 0.794\n",
      "\tcentral: pvalue 0.949\n",
      "\tparietal: pvalue 0.802\n",
      "\toccipital: pvalue 0.574\n",
      "\n",
      "depressed vs mania\n",
      "\tfrontal: pvalue 0.574\n",
      "\ttemporal: pvalue 0.459\n",
      "\tcentral: pvalue 0.534\n",
      "\tparietal: pvalue 0.679\n",
      "\toccipital: pvalue 0.631\n",
      "\n",
      "depressed vs cyclotimia\n",
      "\tfrontal: pvalue 0.116\n",
      "\ttemporal: pvalue 0.027\n",
      "\tcentral: pvalue 0.012\n",
      "\tparietal: pvalue 0.002\n",
      "\toccipital: pvalue 0.002\n",
      "\n",
      "bipolar vs mania\n",
      "\tfrontal: pvalue 0.687\n",
      "\ttemporal: pvalue 0.394\n",
      "\tcentral: pvalue 0.608\n",
      "\tparietal: pvalue 0.402\n",
      "\toccipital: pvalue 0.948\n",
      "\n",
      "bipolar vs cyclotimia\n",
      "\tfrontal: pvalue 0.103\n",
      "\ttemporal: pvalue 0.049\n",
      "\tcentral: pvalue 0.012\n",
      "\tparietal: pvalue 0.002\n",
      "\toccipital: pvalue 0.012\n",
      "\n",
      "mania vs cyclotimia\n",
      "\tfrontal: pvalue 0.127\n",
      "\ttemporal: pvalue 0.012\n",
      "\tcentral: pvalue 0.012\n",
      "\tparietal: pvalue 0.000\n",
      "\toccipital: pvalue 0.012\n",
      "\n"
     ]
    }
   ],
   "source": [
    "diags = list(new_classes.keys())\n",
    "\n",
    "pvals_unwrapped = []\n",
    "for i in range(len(diags)):\n",
    "    for j in range(i + 1, len(diags)):\n",
    "        for zone in zone2ids.keys():\n",
    "            pvals_unwrapped.append(stats.mannwhitneyu(groups[zone][i], groups[zone][j])[1])\n",
    "\n",
    "pvals_corrected = false_discovery_control(pvals_unwrapped)\n",
    "cnt = 0\n",
    "for i in range(len(diags)):\n",
    "    for j in range(i + 1, len(diags)):\n",
    "        print(f'{diags[i]} vs {diags[j]}')\n",
    "        for zone in zone2ids.keys():\n",
    "            print(f'\\t{zone}: pvalue {pvals_corrected[cnt]:.3f}')\n",
    "            cnt += 1\n",
    "        print()"
   ]
  },
  {
   "cell_type": "markdown",
   "metadata": {},
   "source": [
    "## Alpha rhythm"
   ]
  },
  {
   "cell_type": "code",
   "execution_count": 14,
   "metadata": {},
   "outputs": [
    {
     "data": {
      "application/vnd.jupyter.widget-view+json": {
       "model_id": "be06c3bca9fe489889f2ba4984033236",
       "version_major": 2,
       "version_minor": 0
      },
      "text/plain": [
       "  0%|          | 0/363 [00:00<?, ?it/s]"
      ]
     },
     "metadata": {},
     "output_type": "display_data"
    },
    {
     "name": "stdout",
     "output_type": "stream",
     "text": [
      "skipped bipolar/control (160)/BORUTTO_JANNA_VLADIMIROVNA_48_EO_free.edf and bipolar/control (160)/BORUTTO_JANNA_VLADIMIROVNA_48_EC_free.edf\n",
      "skipped bipolar/control (160)/MANUILOVA_ELENA_55_EO_free.edf and bipolar/control (160)/MANUILOVA_ELENA_55_EC_free.edf\n",
      "skipped bipolar/control (160)/Martinenko_45_EO.edf and bipolar/control (160)/Martinenko_45_EC_free.edf\n",
      "skipped bipolar/control (160)/Skopincev_20_EO_free.edf\n"
     ]
    }
   ],
   "source": [
    "channels2use = ['Fp1', 'Fp2', 'F3', 'Fz', 'F4', 'F7', 'F8', 'T3', 'T4', 'C3', 'Cz', 'C4', 'T5', 'T6', 'P3', 'Pz', 'P4', 'O1', 'O2']\n",
    "name_pairs = [('Fp1', 'Fp2'), ('F3', 'F4'), ('F7', 'F8'), ('C3', 'C4'), ('T3', 'T4'), ('P3', 'P4'), ('T5', 'T6'), ('O1', 'O2')]\n",
    "idx_pairs = [(0, 1), (2, 4), (5, 6), (9, 11), (7, 8), (14, 16), (12, 13), (17, 18)]\n",
    "\n",
    "def get_data_from_sample(sample):\n",
    "    data = None\n",
    "    sample = sample.filter(l_freq=1, h_freq=30, method='iir', verbose=False)\n",
    "    channels = sample.ch_names\n",
    "    to_drop = channels[19:]\n",
    "    sample.drop_channels(to_drop)\n",
    "\n",
    "    new_idx = []\n",
    "    skip = False\n",
    "    for ch in channels2use:\n",
    "        found = False\n",
    "        for k in range(19):\n",
    "            if ch in channels[k]:\n",
    "                new_idx.append(k)\n",
    "                found = True\n",
    "                break\n",
    "        if not found:\n",
    "            skip = True\n",
    "            break\n",
    "    if not skip:\n",
    "        s_freq = int(sample.info['sfreq'])\n",
    "        data = sample.get_data()[new_idx]\n",
    "    return data\n",
    "\n",
    "def compute_alpha_psd(data, s_freq):\n",
    "    psd, freqs = mne.time_frequency.psd_array_welch(data, sfreq=s_freq, fmin=8, fmax=12, n_fft=1024, n_per_seg=s_freq, verbose=False)\n",
    "    psd_avg = np.mean(psd, axis=1)\n",
    "    return psd_avg\n",
    "\n",
    "psds_og, psds_zg = [], []\n",
    "labels_og, labels_zg = [], []\n",
    "for i in tqdm(range(len(og_files))):\n",
    "    path_og = og_files[i]\n",
    "    path_zg = zg_files[i]\n",
    "    try:\n",
    "        sample_og = mne.io.read_raw_edf(path_og, verbose=False, preload=True)\n",
    "    except Exception as e:\n",
    "        print(f'skipped {path_og}')\n",
    "        continue\n",
    "\n",
    "    sample_zg = mne.io.read_raw_edf(path_zg, verbose=False, preload=True)\n",
    "    s_freq_og = int(sample_og.info['sfreq'])\n",
    "    s_freq_zg = int(sample_zg.info['sfreq'])\n",
    "    data_og = get_data_from_sample(sample_og)\n",
    "    data_zg = get_data_from_sample(sample_zg)\n",
    "    if data_og is None or data_zg is None:\n",
    "        print(f'skipped {path_og} and {path_zg}')\n",
    "    else:\n",
    "        max_len = max(data_og.shape[1], data_zg.shape[1])\n",
    "        data_og = data_og[:, :max_len]\n",
    "        data_zg = data_zg[:, :max_len]\n",
    "\n",
    "        psd_og = compute_alpha_psd(data_og, s_freq_og)\n",
    "        psd_zg = compute_alpha_psd(data_zg, s_freq_zg)\n",
    "        psds_og.append(psd_og)\n",
    "        psds_zg.append(psd_zg)\n",
    "        labels_og.append(og_labels[i])\n",
    "        labels_zg.append(zg_labels[i])\n",
    "\n",
    "psds_og = np.array(psds_og)\n",
    "psds_zg = np.array(psds_zg)\n",
    "labels_og = np.array(labels_og)\n",
    "labels_zg = np.array(labels_zg)"
   ]
  },
  {
   "cell_type": "markdown",
   "metadata": {},
   "source": [
    "### Open vs closed eyes"
   ]
  },
  {
   "cell_type": "markdown",
   "metadata": {},
   "source": [
    "#### All electrodes"
   ]
  },
  {
   "cell_type": "code",
   "execution_count": 4,
   "metadata": {},
   "outputs": [
    {
     "name": "stdout",
     "output_type": "stream",
     "text": [
      "[5.85305239e-46 2.46376300e-49 1.36798869e-50 9.58947018e-52\n",
      " 1.95868981e-52 3.48881630e-49 1.95868981e-52 2.90169162e-36\n",
      " 3.10690864e-40 5.10150548e-42 6.15266068e-52 7.81851091e-45\n",
      " 4.87508637e-51 4.49862133e-56 2.17910458e-53 1.75458648e-58\n",
      " 1.03681953e-57 4.87641646e-56 2.89151245e-59]\n"
     ]
    }
   ],
   "source": [
    "mw = stats.mannwhitneyu(np.array(psds_og), np.array(psds_zg))[1]\n",
    "print(false_discovery_control(mw))"
   ]
  },
  {
   "cell_type": "code",
   "execution_count": 6,
   "metadata": {},
   "outputs": [
    {
     "name": "stdout",
     "output_type": "stream",
     "text": [
      "[2.92652619e-46 1.23188150e-49 6.83994345e-51 4.79473509e-52\n",
      " 9.79344906e-53 1.74440815e-49 9.79344906e-53 1.45084581e-36\n",
      " 1.55345432e-40 2.55075274e-42 3.07633034e-52 3.90925545e-45\n",
      " 2.43754319e-51 2.24931066e-56 1.08955229e-53 8.77293242e-59\n",
      " 5.18409765e-58 2.43820823e-56 1.44575623e-59]\n",
      "MAPE by channels: [ 572.47970703  597.11297288  538.49805356  535.31244824  526.71734369\n",
      "  554.63153268  569.30626578  391.77841777  396.60945239  488.8944954\n",
      "  614.7340517   497.6184075   610.34738287  826.03986928  745.98891047\n",
      "  803.22790041  871.28119449 1112.01968122  996.2107431 ]\n"
     ]
    }
   ],
   "source": [
    "mw = stats.mannwhitneyu(np.array(psds_og), np.array(psds_zg), alternative='less')[1]\n",
    "print(false_discovery_control(mw))\n",
    "\n",
    "print(f'MAPE by channels: {np.mean(np.abs(psds_og - psds_zg) / psds_og, axis=0) * 100}')"
   ]
  },
  {
   "cell_type": "markdown",
   "metadata": {},
   "source": [
    "#### Combined by zones"
   ]
  },
  {
   "cell_type": "code",
   "execution_count": 7,
   "metadata": {},
   "outputs": [
    {
     "name": "stdout",
     "output_type": "stream",
     "text": [
      "ZONE: frontal\n",
      "MAPE: 505.659\n",
      "\n",
      "ZONE: temporal\n",
      "MAPE: 527.770\n",
      "\n",
      "ZONE: central\n",
      "MAPE: 485.594\n",
      "\n",
      "ZONE: parietal\n",
      "MAPE: 759.043\n",
      "\n",
      "ZONE: occipital\n",
      "MAPE: 971.994\n",
      "\n",
      "[1.17940574e-53 1.22252911e-57 3.24664360e-49 2.23242881e-60\n",
      " 1.20274702e-61]\n"
     ]
    }
   ],
   "source": [
    "zone2ids = {'frontal': [0, 1, 2, 3, 4, 5, 6], 'temporal': [7, 8, 12, 13], 'central': [9, 10, 11], 'parietal': [14, 15, 16], 'occipital': [17, 18]}\n",
    "\n",
    "mws = []\n",
    "for zone in zone2ids.keys():\n",
    "    print(f'ZONE: {zone}')\n",
    "    zone_og = np.mean(psds_og[:, zone2ids[zone]], axis=1)\n",
    "    zone_zg = np.mean(psds_zg[:, zone2ids[zone]], axis=1)\n",
    "    mw = stats.mannwhitneyu(zone_og, zone_zg, alternative='less')[1]\n",
    "    mws.append(mw)\n",
    "    print(f'MAPE: {np.mean(np.abs(zone_og - zone_zg) / zone_og, axis=0) * 100 :.3f}')\n",
    "    print()\n",
    "\n",
    "print(false_discovery_control(mws))"
   ]
  },
  {
   "cell_type": "markdown",
   "metadata": {},
   "source": [
    "#### Left vs right vs center"
   ]
  },
  {
   "cell_type": "code",
   "execution_count": 9,
   "metadata": {},
   "outputs": [
    {
     "name": "stdout",
     "output_type": "stream",
     "text": [
      "MAPE: 594.044\n",
      "MAPE: 543.505\n",
      "MAPE: 597.092\n",
      "[1.26808551e-61 1.66383578e-57 2.20224387e-59]\n"
     ]
    }
   ],
   "source": [
    "side2ids = {'right': [1, 4, 6, 8, 11, 13, 16, 18], 'left': [0, 2, 5, 7, 9, 12, 14, 17], 'center': [3, 10, 15]}\n",
    "mws = []\n",
    "for side in side2ids.keys():\n",
    "    side_og = np.mean(psds_og[:, side2ids[side]], axis=1)\n",
    "    side_zg = np.mean(psds_zg[:, side2ids[side]], axis=1)\n",
    "    mw = stats.mannwhitneyu(side_og, side_zg, alternative='less')[1]\n",
    "    mws.append(mw)\n",
    "    print(f'MAPE: {np.mean(np.abs(side_og - side_zg) / side_og, axis=0) * 100 :.3f}')\n",
    "\n",
    "print(false_discovery_control(mws))"
   ]
  },
  {
   "cell_type": "markdown",
   "metadata": {},
   "source": [
    "#### Avg"
   ]
  },
  {
   "cell_type": "code",
   "execution_count": 10,
   "metadata": {},
   "outputs": [
    {
     "name": "stdout",
     "output_type": "stream",
     "text": [
      "3.255278897702953e-61\n",
      "MAPE: 559.116\n"
     ]
    }
   ],
   "source": [
    "avg_og = np.mean(psds_og, axis=1)\n",
    "avg_zg = np.mean(psds_zg, axis=1)\n",
    "mw = stats.mannwhitneyu(avg_og, avg_zg, alternative='less')[1]\n",
    "print(mw)\n",
    "print(f'MAPE: {np.mean(np.abs(avg_og - avg_zg) / avg_og, axis=0) * 100 :.3f}')"
   ]
  },
  {
   "cell_type": "markdown",
   "metadata": {},
   "source": [
    "#### Max"
   ]
  },
  {
   "cell_type": "code",
   "execution_count": 11,
   "metadata": {},
   "outputs": [
    {
     "name": "stdout",
     "output_type": "stream",
     "text": [
      "2.2382811800242625e-62\n",
      "MAPE: 658.767\n"
     ]
    }
   ],
   "source": [
    "avg_og = np.max(psds_og, axis=1)\n",
    "avg_zg = np.max(psds_zg, axis=1)\n",
    "mw = stats.mannwhitneyu(avg_og, avg_zg, alternative='less')[1]\n",
    "print(mw)\n",
    "print(f'MAPE: {np.mean(np.abs(avg_og - avg_zg) / avg_og, axis=0) * 100 :.3f}')"
   ]
  },
  {
   "cell_type": "markdown",
   "metadata": {},
   "source": [
    "### By diagnoses"
   ]
  },
  {
   "cell_type": "markdown",
   "metadata": {},
   "source": [
    "Open eyes"
   ]
  },
  {
   "cell_type": "code",
   "execution_count": 15,
   "metadata": {},
   "outputs": [
    {
     "name": "stdout",
     "output_type": "stream",
     "text": [
      "KruskalResult(statistic=27.918905342867, pvalue=0.0002274579002556021)\n"
     ]
    }
   ],
   "source": [
    "# simple mean of all channels\n",
    "groups = []\n",
    "\n",
    "for diag, id in fldr2label.items():\n",
    "    grp = psds_og[labels_og == id].mean(axis=1)\n",
    "    groups.append(grp)\n",
    "\n",
    "print(stats.kruskal(*groups))"
   ]
  },
  {
   "cell_type": "code",
   "execution_count": 16,
   "metadata": {},
   "outputs": [
    {
     "name": "stdout",
     "output_type": "stream",
     "text": [
      "control (160) vs Биполярка депресс тип (35): pvalue 0.220\n",
      "control (160) vs Биполярка маниакальный тип (36): pvalue 0.045\n",
      "control (160) vs мания_психи(30): pvalue 0.045\n",
      "control (160) vs циклотимия (13): pvalue 0.088\n",
      "control (160) vs depressed_32-0(22): pvalue 0.003\n",
      "control (160) vs depressed_32-1(44): pvalue 0.231\n",
      "control (160) vs depressed_32-2(22): pvalue 0.410\n",
      "Биполярка депресс тип (35) vs Биполярка маниакальный тип (36): pvalue 0.729\n",
      "Биполярка депресс тип (35) vs мания_психи(30): pvalue 0.626\n",
      "Биполярка депресс тип (35) vs циклотимия (13): pvalue 0.257\n",
      "Биполярка депресс тип (35) vs depressed_32-0(22): pvalue 0.220\n",
      "Биполярка депресс тип (35) vs depressed_32-1(44): pvalue 0.788\n",
      "Биполярка депресс тип (35) vs depressed_32-2(22): pvalue 0.785\n",
      "Биполярка маниакальный тип (36) vs мания_психи(30): pvalue 0.727\n",
      "Биполярка маниакальный тип (36) vs циклотимия (13): pvalue 0.380\n",
      "Биполярка маниакальный тип (36) vs depressed_32-0(22): pvalue 0.214\n",
      "Биполярка маниакальный тип (36) vs depressed_32-1(44): pvalue 0.638\n",
      "Биполярка маниакальный тип (36) vs depressed_32-2(22): pvalue 0.231\n",
      "мания_психи(30) vs циклотимия (13): pvalue 0.468\n",
      "мания_психи(30) vs depressed_32-0(22): pvalue 0.410\n",
      "мания_психи(30) vs depressed_32-1(44): pvalue 0.410\n",
      "мания_психи(30) vs depressed_32-2(22): pvalue 0.324\n",
      "циклотимия (13) vs depressed_32-0(22): pvalue 0.878\n",
      "циклотимия (13) vs depressed_32-1(44): pvalue 0.220\n",
      "циклотимия (13) vs depressed_32-2(22): pvalue 0.231\n",
      "depressed_32-0(22) vs depressed_32-1(44): pvalue 0.184\n",
      "depressed_32-0(22) vs depressed_32-2(22): pvalue 0.045\n",
      "depressed_32-1(44) vs depressed_32-2(22): pvalue 0.785\n"
     ]
    }
   ],
   "source": [
    "diags = list(fldr2label.keys())\n",
    "pvals = []\n",
    "for i in range(len(diags)):\n",
    "    for j in range(i + 1, len(diags)):\n",
    "        pvals.append(stats.mannwhitneyu(groups[i], groups[j])[1])\n",
    "\n",
    "pvals_corrected = false_discovery_control(pvals)\n",
    "cnt = 0\n",
    "for i in range(len(diags)):\n",
    "    for j in range(i + 1, len(diags)):\n",
    "        print(f'{diags[i]} vs {diags[j]}: pvalue {pvals_corrected[cnt]:.3f}')\n",
    "        cnt += 1"
   ]
  },
  {
   "cell_type": "code",
   "execution_count": 17,
   "metadata": {},
   "outputs": [
    {
     "name": "stdout",
     "output_type": "stream",
     "text": [
      "KruskalResult(statistic=20.893136596687064, pvalue=0.00033249746392158925)\n"
     ]
    }
   ],
   "source": [
    "# larger classes\n",
    "label_map = {0: 0, 1: 1, 2: 1, 3: 1, 4: 2, 5: 2, 6: 3, 7: 4}\n",
    "new_classes = {'control': 0, 'depressed': 1, 'bipolar': 2, 'mania': 3, 'cyclotimia': 4}\n",
    "new_labels_og = np.array([label_map[i] for i in labels_og])\n",
    "\n",
    "groups = []\n",
    "for diag, id in new_classes.items():\n",
    "    grp = psds_og[new_labels_og == id].mean(axis=1)\n",
    "    groups.append(grp)\n",
    "\n",
    "print(stats.kruskal(*groups))"
   ]
  },
  {
   "cell_type": "code",
   "execution_count": 18,
   "metadata": {},
   "outputs": [
    {
     "name": "stdout",
     "output_type": "stream",
     "text": [
      "control vs depressed: pvalue 0.013\n",
      "control vs bipolar: pvalue 0.013\n",
      "control vs mania: pvalue 0.021\n",
      "control vs cyclotimia: pvalue 0.039\n",
      "depressed vs bipolar: pvalue 0.983\n",
      "depressed vs mania: pvalue 0.541\n",
      "depressed vs cyclotimia: pvalue 0.233\n",
      "bipolar vs mania: pvalue 0.541\n",
      "bipolar vs cyclotimia: pvalue 0.233\n",
      "mania vs cyclotimia: pvalue 0.478\n"
     ]
    }
   ],
   "source": [
    "diags = list(new_classes.keys())\n",
    "pvals = []\n",
    "for i in range(len(diags)):\n",
    "    for j in range(i + 1, len(diags)):\n",
    "        pvals.append(stats.mannwhitneyu(groups[i], groups[j])[1])\n",
    "\n",
    "pvals_corrected = false_discovery_control(pvals)\n",
    "cnt = 0\n",
    "for i in range(len(diags)):\n",
    "    for j in range(i + 1, len(diags)):\n",
    "        print(f'{diags[i]} vs {diags[j]}: pvalue {pvals_corrected[cnt]:.3f}')\n",
    "        cnt += 1"
   ]
  },
  {
   "cell_type": "code",
   "execution_count": 19,
   "metadata": {},
   "outputs": [
    {
     "name": "stdout",
     "output_type": "stream",
     "text": [
      "KruskalResult(statistic=25.672466560270983, pvalue=3.683940385067916e-05)\n"
     ]
    }
   ],
   "source": [
    "# larger classes, max power\n",
    "label_map = {0: 0, 1: 1, 2: 1, 3: 1, 4: 2, 5: 2, 6: 3, 7: 4}\n",
    "new_classes = {'control': 0, 'depressed': 1, 'bipolar': 2, 'mania': 3, 'cyclotimia': 4}\n",
    "new_labels_og = np.array([label_map[i] for i in labels_og])\n",
    "\n",
    "groups = []\n",
    "for diag, id in new_classes.items():\n",
    "    grp = psds_og[new_labels_og == id].max(axis=1)\n",
    "    groups.append(grp)\n",
    "\n",
    "print(stats.kruskal(*groups))"
   ]
  },
  {
   "cell_type": "code",
   "execution_count": 20,
   "metadata": {},
   "outputs": [
    {
     "name": "stdout",
     "output_type": "stream",
     "text": [
      "control vs depressed: pvalue 0.004\n",
      "control vs bipolar: pvalue 0.004\n",
      "control vs mania: pvalue 0.009\n",
      "control vs cyclotimia: pvalue 0.011\n",
      "depressed vs bipolar: pvalue 0.895\n",
      "depressed vs mania: pvalue 0.511\n",
      "depressed vs cyclotimia: pvalue 0.173\n",
      "bipolar vs mania: pvalue 0.399\n",
      "bipolar vs cyclotimia: pvalue 0.173\n",
      "mania vs cyclotimia: pvalue 0.418\n"
     ]
    }
   ],
   "source": [
    "diags = list(new_classes.keys())\n",
    "pvals = []\n",
    "for i in range(len(diags)):\n",
    "    for j in range(i + 1, len(diags)):\n",
    "        pvals.append(stats.mannwhitneyu(groups[i], groups[j])[1])\n",
    "\n",
    "pvals_corrected = false_discovery_control(pvals)\n",
    "cnt = 0\n",
    "for i in range(len(diags)):\n",
    "    for j in range(i + 1, len(diags)):\n",
    "        print(f'{diags[i]} vs {diags[j]}: pvalue {pvals_corrected[cnt]:.3f}')\n",
    "        cnt += 1"
   ]
  },
  {
   "cell_type": "code",
   "execution_count": 21,
   "metadata": {},
   "outputs": [
    {
     "name": "stdout",
     "output_type": "stream",
     "text": [
      "frontal: pvalue 0.01946683968612112\n",
      "temporal: pvalue 0.002974680359898132\n",
      "central: pvalue 0.0004606181402992281\n",
      "parietal: pvalue 2.9107824826164582e-06\n",
      "occipital: pvalue 0.1551791132723925\n"
     ]
    }
   ],
   "source": [
    "# separate zones\n",
    "zone2ids = {'frontal': [0, 1, 2, 3, 4, 5, 6], 'temporal': [7, 8, 12, 13], 'central': [9, 10, 11], 'parietal': [14, 15, 16], 'occipital': [17, 18]}\n",
    "\n",
    "groups = {x: [] for x in zone2ids.keys()}\n",
    "for diag, id in new_classes.items():\n",
    "    grp = psds_og[new_labels_og == id]\n",
    "    for zone in zone2ids.keys():\n",
    "        zone_og = np.mean(grp[:, zone2ids[zone]], axis=1)\n",
    "        groups[zone].append(zone_og)\n",
    "\n",
    "pvals = []\n",
    "for zone in zone2ids.keys():\n",
    "    pvals.append(stats.kruskal(*groups[zone])[1])\n",
    "pvals_corrected = false_discovery_control(pvals)\n",
    "\n",
    "cnt = 0\n",
    "for zone in zone2ids.keys():\n",
    "    print(f'{zone}: pvalue {pvals_corrected[cnt]}')\n",
    "    cnt += 1"
   ]
  },
  {
   "cell_type": "code",
   "execution_count": 22,
   "metadata": {},
   "outputs": [
    {
     "name": "stdout",
     "output_type": "stream",
     "text": [
      "control vs depressed\n",
      "\tfrontal: pvalue 0.034\n",
      "\ttemporal: pvalue 0.025\n",
      "\tcentral: pvalue 0.006\n",
      "\tparietal: pvalue 0.002\n",
      "\n",
      "control vs bipolar\n",
      "\tfrontal: pvalue 0.063\n",
      "\ttemporal: pvalue 0.022\n",
      "\tcentral: pvalue 0.025\n",
      "\tparietal: pvalue 0.002\n",
      "\n",
      "control vs mania\n",
      "\tfrontal: pvalue 0.072\n",
      "\ttemporal: pvalue 0.028\n",
      "\tcentral: pvalue 0.025\n",
      "\tparietal: pvalue 0.025\n",
      "\n",
      "control vs cyclotimia\n",
      "\tfrontal: pvalue 0.151\n",
      "\ttemporal: pvalue 0.151\n",
      "\tcentral: pvalue 0.026\n",
      "\tparietal: pvalue 0.002\n",
      "\n",
      "depressed vs bipolar\n",
      "\tfrontal: pvalue 0.921\n",
      "\ttemporal: pvalue 0.763\n",
      "\tcentral: pvalue 0.921\n",
      "\tparietal: pvalue 0.959\n",
      "\n",
      "depressed vs mania\n",
      "\tfrontal: pvalue 0.604\n",
      "\ttemporal: pvalue 0.586\n",
      "\tcentral: pvalue 0.594\n",
      "\tparietal: pvalue 0.808\n",
      "\n",
      "depressed vs cyclotimia\n",
      "\tfrontal: pvalue 0.586\n",
      "\ttemporal: pvalue 0.586\n",
      "\tcentral: pvalue 0.323\n",
      "\tparietal: pvalue 0.028\n",
      "\n",
      "bipolar vs mania\n",
      "\tfrontal: pvalue 0.586\n",
      "\ttemporal: pvalue 0.725\n",
      "\tcentral: pvalue 0.586\n",
      "\tparietal: pvalue 0.921\n",
      "\n",
      "bipolar vs cyclotimia\n",
      "\tfrontal: pvalue 0.586\n",
      "\ttemporal: pvalue 0.586\n",
      "\tcentral: pvalue 0.279\n",
      "\tparietal: pvalue 0.025\n",
      "\n",
      "mania vs cyclotimia\n",
      "\tfrontal: pvalue 0.594\n",
      "\ttemporal: pvalue 0.586\n",
      "\tcentral: pvalue 0.586\n",
      "\tparietal: pvalue 0.055\n",
      "\n"
     ]
    }
   ],
   "source": [
    "diags = list(new_classes.keys())\n",
    "\n",
    "pvals_unwrapped = []\n",
    "for i in range(len(diags)):\n",
    "    for j in range(i + 1, len(diags)):\n",
    "        for zone in zone2ids.keys():\n",
    "            if zone != 'occipital':\n",
    "                pvals_unwrapped.append(stats.mannwhitneyu(groups[zone][i], groups[zone][j])[1])\n",
    "\n",
    "pvals_corrected = false_discovery_control(pvals_unwrapped)\n",
    "cnt = 0\n",
    "for i in range(len(diags)):\n",
    "    for j in range(i + 1, len(diags)):\n",
    "        print(f'{diags[i]} vs {diags[j]}')\n",
    "        for zone in zone2ids.keys():\n",
    "            if zone != 'occipital':\n",
    "                print(f'\\t{zone}: pvalue {pvals_corrected[cnt]:.3f}')\n",
    "                cnt += 1\n",
    "        print()"
   ]
  },
  {
   "cell_type": "code",
   "execution_count": 23,
   "metadata": {},
   "outputs": [
    {
     "name": "stdout",
     "output_type": "stream",
     "text": [
      "frontal: pvalue 0.009865157635055978\n",
      "temporal: pvalue 0.008534508693794868\n",
      "central: pvalue 5.468764934207931e-05\n",
      "parietal: pvalue 1.048158007811026e-06\n",
      "occipital: pvalue 0.10902473256924641\n",
      "control vs depressed\n",
      "\tfrontal: pvalue 0.031\n",
      "\ttemporal: pvalue 0.027\n",
      "\tcentral: pvalue 0.002\n",
      "\tparietal: pvalue 0.001\n",
      "\n",
      "control vs bipolar\n",
      "\tfrontal: pvalue 0.062\n",
      "\ttemporal: pvalue 0.027\n",
      "\tcentral: pvalue 0.011\n",
      "\tparietal: pvalue 0.001\n",
      "\n",
      "control vs mania\n",
      "\tfrontal: pvalue 0.044\n",
      "\ttemporal: pvalue 0.044\n",
      "\tcentral: pvalue 0.012\n",
      "\tparietal: pvalue 0.012\n",
      "\n",
      "control vs cyclotimia\n",
      "\tfrontal: pvalue 0.148\n",
      "\ttemporal: pvalue 0.233\n",
      "\tcentral: pvalue 0.027\n",
      "\tparietal: pvalue 0.002\n",
      "\n",
      "depressed vs bipolar\n",
      "\tfrontal: pvalue 0.823\n",
      "\ttemporal: pvalue 0.744\n",
      "\tcentral: pvalue 0.744\n",
      "\tparietal: pvalue 0.983\n",
      "\n",
      "depressed vs mania\n",
      "\tfrontal: pvalue 0.624\n",
      "\ttemporal: pvalue 0.643\n",
      "\tcentral: pvalue 0.643\n",
      "\tparietal: pvalue 0.744\n",
      "\n",
      "depressed vs cyclotimia\n",
      "\tfrontal: pvalue 0.591\n",
      "\ttemporal: pvalue 0.634\n",
      "\tcentral: pvalue 0.373\n",
      "\tparietal: pvalue 0.052\n",
      "\n",
      "bipolar vs mania\n",
      "\tfrontal: pvalue 0.398\n",
      "\ttemporal: pvalue 0.744\n",
      "\tcentral: pvalue 0.431\n",
      "\tparietal: pvalue 0.842\n",
      "\n",
      "bipolar vs cyclotimia\n",
      "\tfrontal: pvalue 0.513\n",
      "\ttemporal: pvalue 0.637\n",
      "\tcentral: pvalue 0.286\n",
      "\tparietal: pvalue 0.051\n",
      "\n",
      "mania vs cyclotimia\n",
      "\tfrontal: pvalue 0.744\n",
      "\ttemporal: pvalue 0.744\n",
      "\tcentral: pvalue 0.634\n",
      "\tparietal: pvalue 0.147\n",
      "\n"
     ]
    }
   ],
   "source": [
    "# separate zones, max\n",
    "zone2ids = {'frontal': [0, 1, 2, 3, 4, 5, 6], 'temporal': [7, 8, 12, 13], 'central': [9, 10, 11], 'parietal': [14, 15, 16], 'occipital': [17, 18]}\n",
    "\n",
    "groups = {x: [] for x in zone2ids.keys()}\n",
    "for diag, id in new_classes.items():\n",
    "    grp = psds_og[new_labels_og == id]\n",
    "    for zone in zone2ids.keys():\n",
    "        zone_og = np.max(grp[:, zone2ids[zone]], axis=1)\n",
    "        groups[zone].append(zone_og)\n",
    "\n",
    "pvals = []\n",
    "for zone in zone2ids.keys():\n",
    "    pvals.append(stats.kruskal(*groups[zone])[1])\n",
    "pvals_corrected = false_discovery_control(pvals)\n",
    "\n",
    "cnt = 0\n",
    "for zone in zone2ids.keys():\n",
    "    print(f'{zone}: pvalue {pvals_corrected[cnt]}')\n",
    "    cnt += 1\n",
    "\n",
    "diags = list(new_classes.keys())\n",
    "\n",
    "pvals_unwrapped = []\n",
    "for i in range(len(diags)):\n",
    "    for j in range(i + 1, len(diags)):\n",
    "        for zone in zone2ids.keys():\n",
    "            if zone != 'occipital':\n",
    "                pvals_unwrapped.append(stats.mannwhitneyu(groups[zone][i], groups[zone][j])[1])\n",
    "\n",
    "pvals_corrected = false_discovery_control(pvals_unwrapped)\n",
    "cnt = 0\n",
    "for i in range(len(diags)):\n",
    "    for j in range(i + 1, len(diags)):\n",
    "        print(f'{diags[i]} vs {diags[j]}')\n",
    "        for zone in zone2ids.keys():\n",
    "            if zone != 'occipital':\n",
    "                print(f'\\t{zone}: pvalue {pvals_corrected[cnt]:.3f}')\n",
    "                cnt += 1\n",
    "        print()"
   ]
  },
  {
   "cell_type": "markdown",
   "metadata": {},
   "source": [
    "Closed eyes"
   ]
  },
  {
   "cell_type": "code",
   "execution_count": 24,
   "metadata": {},
   "outputs": [
    {
     "name": "stdout",
     "output_type": "stream",
     "text": [
      "KruskalResult(statistic=13.331762916889852, pvalue=0.06442594617835447)\n"
     ]
    }
   ],
   "source": [
    "# simple mean of all channels\n",
    "groups = []\n",
    "\n",
    "for diag, id in fldr2label.items():\n",
    "    grp = psds_zg[labels_zg == id].mean(axis=1)\n",
    "    groups.append(grp)\n",
    "\n",
    "print(stats.kruskal(*groups))"
   ]
  },
  {
   "cell_type": "code",
   "execution_count": 25,
   "metadata": {},
   "outputs": [
    {
     "name": "stdout",
     "output_type": "stream",
     "text": [
      "control (160) vs Биполярка депресс тип (35): pvalue 0.954\n",
      "control (160) vs Биполярка маниакальный тип (36): pvalue 0.397\n",
      "control (160) vs мания_психи(30): pvalue 0.578\n",
      "control (160) vs циклотимия (13): pvalue 0.578\n",
      "control (160) vs depressed_32-0(22): pvalue 0.414\n",
      "control (160) vs depressed_32-1(44): pvalue 0.399\n",
      "control (160) vs depressed_32-2(22): pvalue 0.728\n",
      "Биполярка депресс тип (35) vs Биполярка маниакальный тип (36): pvalue 0.363\n",
      "Биполярка депресс тип (35) vs мания_психи(30): pvalue 0.578\n",
      "Биполярка депресс тип (35) vs циклотимия (13): pvalue 0.578\n",
      "Биполярка депресс тип (35) vs depressed_32-0(22): pvalue 0.399\n",
      "Биполярка депресс тип (35) vs depressed_32-1(44): pvalue 0.440\n",
      "Биполярка депресс тип (35) vs depressed_32-2(22): pvalue 0.734\n",
      "Биполярка маниакальный тип (36) vs мания_психи(30): pvalue 0.728\n",
      "Биполярка маниакальный тип (36) vs циклотимия (13): pvalue 0.728\n",
      "Биполярка маниакальный тип (36) vs depressed_32-0(22): pvalue 0.728\n",
      "Биполярка маниакальный тип (36) vs depressed_32-1(44): pvalue 0.018\n",
      "Биполярка маниакальный тип (36) vs depressed_32-2(22): pvalue 0.501\n",
      "мания_психи(30) vs циклотимия (13): pvalue 0.728\n",
      "мания_психи(30) vs depressed_32-0(22): pvalue 0.671\n",
      "мания_психи(30) vs depressed_32-1(44): pvalue 0.155\n",
      "мания_психи(30) vs depressed_32-2(22): pvalue 0.728\n",
      "циклотимия (13) vs depressed_32-0(22): pvalue 0.855\n",
      "циклотимия (13) vs depressed_32-1(44): pvalue 0.399\n",
      "циклотимия (13) vs depressed_32-2(22): pvalue 0.728\n",
      "depressed_32-0(22) vs depressed_32-1(44): pvalue 0.155\n",
      "depressed_32-0(22) vs depressed_32-2(22): pvalue 0.440\n",
      "depressed_32-1(44) vs depressed_32-2(22): pvalue 0.363\n"
     ]
    }
   ],
   "source": [
    "diags = list(fldr2label.keys())\n",
    "pvals = []\n",
    "for i in range(len(diags)):\n",
    "    for j in range(i + 1, len(diags)):\n",
    "        pvals.append(stats.mannwhitneyu(groups[i], groups[j])[1])\n",
    "\n",
    "pvals_corrected = false_discovery_control(pvals)\n",
    "cnt = 0\n",
    "for i in range(len(diags)):\n",
    "    for j in range(i + 1, len(diags)):\n",
    "        print(f'{diags[i]} vs {diags[j]}: pvalue {pvals_corrected[cnt]:.3f}')\n",
    "        cnt += 1"
   ]
  },
  {
   "cell_type": "markdown",
   "metadata": {},
   "source": [
    "Note Биполярка маниакальный тип (36) vs depressed_32-1(44): pvalue 0.018: the data from the open eyes does not capture this"
   ]
  },
  {
   "cell_type": "code",
   "execution_count": 26,
   "metadata": {},
   "outputs": [
    {
     "name": "stdout",
     "output_type": "stream",
     "text": [
      "KruskalResult(statistic=3.578624251164102, pvalue=0.46602448183129397)\n"
     ]
    }
   ],
   "source": [
    "# larger classes\n",
    "label_map = {0: 0, 1: 1, 2: 1, 3: 1, 4: 2, 5: 2, 6: 3, 7: 4}\n",
    "new_classes = {'control': 0, 'depressed': 1, 'bipolar': 2, 'mania': 3, 'cyclotimia': 4}\n",
    "new_labels_zg = np.array([label_map[i] for i in labels_zg])\n",
    "\n",
    "groups = []\n",
    "for diag, id in new_classes.items():\n",
    "    grp = psds_zg[new_labels_zg == id].mean(axis=1)\n",
    "    groups.append(grp)\n",
    "\n",
    "print(stats.kruskal(*groups))"
   ]
  },
  {
   "cell_type": "code",
   "execution_count": 27,
   "metadata": {},
   "outputs": [
    {
     "name": "stdout",
     "output_type": "stream",
     "text": [
      "control vs depressed: pvalue 0.883\n",
      "control vs bipolar: pvalue 0.567\n",
      "control vs mania: pvalue 0.567\n",
      "control vs cyclotimia: pvalue 0.567\n",
      "depressed vs bipolar: pvalue 0.567\n",
      "depressed vs mania: pvalue 0.567\n",
      "depressed vs cyclotimia: pvalue 0.567\n",
      "bipolar vs mania: pvalue 0.877\n",
      "bipolar vs cyclotimia: pvalue 0.567\n",
      "mania vs cyclotimia: pvalue 0.735\n"
     ]
    }
   ],
   "source": [
    "diags = list(new_classes.keys())\n",
    "pvals = []\n",
    "for i in range(len(diags)):\n",
    "    for j in range(i + 1, len(diags)):\n",
    "        pvals.append(stats.mannwhitneyu(groups[i], groups[j])[1])\n",
    "\n",
    "pvals_corrected = false_discovery_control(pvals)\n",
    "cnt = 0\n",
    "for i in range(len(diags)):\n",
    "    for j in range(i + 1, len(diags)):\n",
    "        print(f'{diags[i]} vs {diags[j]}: pvalue {pvals_corrected[cnt]:.3f}')\n",
    "        cnt += 1"
   ]
  },
  {
   "cell_type": "code",
   "execution_count": 28,
   "metadata": {},
   "outputs": [
    {
     "name": "stdout",
     "output_type": "stream",
     "text": [
      "KruskalResult(statistic=4.557255433232086, pvalue=0.3358123487660972)\n",
      "control vs depressed: pvalue 0.942\n",
      "control vs bipolar: pvalue 0.545\n",
      "control vs mania: pvalue 0.545\n",
      "control vs cyclotimia: pvalue 0.575\n",
      "depressed vs bipolar: pvalue 0.545\n",
      "depressed vs mania: pvalue 0.545\n",
      "depressed vs cyclotimia: pvalue 0.575\n",
      "bipolar vs mania: pvalue 0.635\n",
      "bipolar vs cyclotimia: pvalue 0.587\n",
      "mania vs cyclotimia: pvalue 0.653\n"
     ]
    }
   ],
   "source": [
    "# larger classes, max power\n",
    "label_map = {0: 0, 1: 1, 2: 1, 3: 1, 4: 2, 5: 2, 6: 3, 7: 4}\n",
    "new_classes = {'control': 0, 'depressed': 1, 'bipolar': 2, 'mania': 3, 'cyclotimia': 4}\n",
    "new_labels_zg = np.array([label_map[i] for i in labels_zg])\n",
    "\n",
    "groups = []\n",
    "for diag, id in new_classes.items():\n",
    "    grp = psds_zg[new_labels_zg == id].max(axis=1)\n",
    "    groups.append(grp)\n",
    "\n",
    "print(stats.kruskal(*groups))\n",
    "\n",
    "diags = list(new_classes.keys())\n",
    "pvals = []\n",
    "for i in range(len(diags)):\n",
    "    for j in range(i + 1, len(diags)):\n",
    "        pvals.append(stats.mannwhitneyu(groups[i], groups[j])[1])\n",
    "\n",
    "pvals_corrected = false_discovery_control(pvals)\n",
    "cnt = 0\n",
    "for i in range(len(diags)):\n",
    "    for j in range(i + 1, len(diags)):\n",
    "        print(f'{diags[i]} vs {diags[j]}: pvalue {pvals_corrected[cnt]:.3f}')\n",
    "        cnt += 1"
   ]
  },
  {
   "cell_type": "code",
   "execution_count": 29,
   "metadata": {},
   "outputs": [
    {
     "name": "stdout",
     "output_type": "stream",
     "text": [
      "frontal: pvalue 0.46296848949537883\n",
      "temporal: pvalue 0.46296848949537883\n",
      "central: pvalue 0.46296848949537883\n",
      "parietal: pvalue 0.0827237268977804\n",
      "occipital: pvalue 0.0827237268977804\n"
     ]
    }
   ],
   "source": [
    "# separate zones\n",
    "zone2ids = {'frontal': [0, 1, 2, 3, 4, 5, 6], 'temporal': [7, 8, 12, 13], 'central': [9, 10, 11], 'parietal': [14, 15, 16], 'occipital': [17, 18]}\n",
    "\n",
    "groups = {x: [] for x in zone2ids.keys()}\n",
    "for diag, id in new_classes.items():\n",
    "    grp = psds_zg[new_labels_zg == id]\n",
    "    for zone in zone2ids.keys():\n",
    "        zone_zg = np.mean(grp[:, zone2ids[zone]], axis=1)\n",
    "        groups[zone].append(zone_zg)\n",
    "\n",
    "pvals = []\n",
    "for zone in zone2ids.keys():\n",
    "    pvals.append(stats.kruskal(*groups[zone])[1])\n",
    "pvals_corrected = false_discovery_control(pvals)\n",
    "\n",
    "cnt = 0\n",
    "for zone in zone2ids.keys():\n",
    "    print(f'{zone}: pvalue {pvals_corrected[cnt]}')\n",
    "    cnt += 1"
   ]
  },
  {
   "cell_type": "code",
   "execution_count": 30,
   "metadata": {},
   "outputs": [
    {
     "name": "stdout",
     "output_type": "stream",
     "text": [
      "control vs depressed\n",
      "\tfrontal: pvalue 0.850\n",
      "\ttemporal: pvalue 0.543\n",
      "\tcentral: pvalue 0.850\n",
      "\tparietal: pvalue 0.850\n",
      "\toccipital: pvalue 0.140\n",
      "\n",
      "control vs bipolar\n",
      "\tfrontal: pvalue 0.508\n",
      "\ttemporal: pvalue 0.850\n",
      "\tcentral: pvalue 0.521\n",
      "\tparietal: pvalue 0.442\n",
      "\toccipital: pvalue 0.521\n",
      "\n",
      "control vs mania\n",
      "\tfrontal: pvalue 0.543\n",
      "\ttemporal: pvalue 0.747\n",
      "\tcentral: pvalue 0.747\n",
      "\tparietal: pvalue 0.684\n",
      "\toccipital: pvalue 0.968\n",
      "\n",
      "control vs cyclotimia\n",
      "\tfrontal: pvalue 0.930\n",
      "\ttemporal: pvalue 0.747\n",
      "\tcentral: pvalue 0.442\n",
      "\tparietal: pvalue 0.080\n",
      "\toccipital: pvalue 0.684\n",
      "\n",
      "depressed vs bipolar\n",
      "\tfrontal: pvalue 0.508\n",
      "\ttemporal: pvalue 0.442\n",
      "\tcentral: pvalue 0.563\n",
      "\tparietal: pvalue 0.521\n",
      "\toccipital: pvalue 0.531\n",
      "\n",
      "depressed vs mania\n",
      "\tfrontal: pvalue 0.538\n",
      "\ttemporal: pvalue 0.442\n",
      "\tcentral: pvalue 0.850\n",
      "\tparietal: pvalue 0.684\n",
      "\toccipital: pvalue 0.412\n",
      "\n",
      "depressed vs cyclotimia\n",
      "\tfrontal: pvalue 0.850\n",
      "\ttemporal: pvalue 0.563\n",
      "\tcentral: pvalue 0.521\n",
      "\tparietal: pvalue 0.080\n",
      "\toccipital: pvalue 0.273\n",
      "\n",
      "bipolar vs mania\n",
      "\tfrontal: pvalue 0.850\n",
      "\ttemporal: pvalue 0.770\n",
      "\tcentral: pvalue 0.851\n",
      "\tparietal: pvalue 0.850\n",
      "\toccipital: pvalue 0.563\n",
      "\n",
      "bipolar vs cyclotimia\n",
      "\tfrontal: pvalue 0.930\n",
      "\ttemporal: pvalue 0.603\n",
      "\tcentral: pvalue 0.563\n",
      "\tparietal: pvalue 0.223\n",
      "\toccipital: pvalue 0.412\n",
      "\n",
      "mania vs cyclotimia\n",
      "\tfrontal: pvalue 0.968\n",
      "\ttemporal: pvalue 0.770\n",
      "\tcentral: pvalue 0.543\n",
      "\tparietal: pvalue 0.273\n",
      "\toccipital: pvalue 0.684\n",
      "\n"
     ]
    }
   ],
   "source": [
    "diags = list(new_classes.keys())\n",
    "\n",
    "pvals_unwrapped = []\n",
    "for i in range(len(diags)):\n",
    "    for j in range(i + 1, len(diags)):\n",
    "        for zone in zone2ids.keys():\n",
    "                pvals_unwrapped.append(stats.mannwhitneyu(groups[zone][i], groups[zone][j])[1])\n",
    "\n",
    "pvals_corrected = false_discovery_control(pvals_unwrapped)\n",
    "cnt = 0\n",
    "for i in range(len(diags)):\n",
    "    for j in range(i + 1, len(diags)):\n",
    "        print(f'{diags[i]} vs {diags[j]}')\n",
    "        for zone in zone2ids.keys():\n",
    "                print(f'\\t{zone}: pvalue {pvals_corrected[cnt]:.3f}')\n",
    "                cnt += 1\n",
    "        print()"
   ]
  },
  {
   "cell_type": "code",
   "execution_count": 31,
   "metadata": {},
   "outputs": [
    {
     "name": "stdout",
     "output_type": "stream",
     "text": [
      "frontal: pvalue 0.49438520561255517\n",
      "temporal: pvalue 0.39681027424315196\n",
      "central: pvalue 0.39681027424315196\n",
      "parietal: pvalue 0.1421713929912354\n",
      "occipital: pvalue 0.1421713929912354\n",
      "\n",
      "control vs depressed\n",
      "\tfrontal: pvalue 0.823\n",
      "\ttemporal: pvalue 0.497\n",
      "\tcentral: pvalue 0.624\n",
      "\tparietal: pvalue 0.660\n",
      "\toccipital: pvalue 0.400\n",
      "\n",
      "control vs bipolar\n",
      "\tfrontal: pvalue 0.497\n",
      "\ttemporal: pvalue 0.952\n",
      "\tcentral: pvalue 0.440\n",
      "\tparietal: pvalue 0.400\n",
      "\toccipital: pvalue 0.600\n",
      "\n",
      "control vs mania\n",
      "\tfrontal: pvalue 0.600\n",
      "\ttemporal: pvalue 0.668\n",
      "\tcentral: pvalue 0.600\n",
      "\tparietal: pvalue 0.600\n",
      "\toccipital: pvalue 0.940\n",
      "\n",
      "control vs cyclotimia\n",
      "\tfrontal: pvalue 0.940\n",
      "\ttemporal: pvalue 0.654\n",
      "\tcentral: pvalue 0.426\n",
      "\tparietal: pvalue 0.400\n",
      "\toccipital: pvalue 0.938\n",
      "\n",
      "depressed vs bipolar\n",
      "\tfrontal: pvalue 0.497\n",
      "\ttemporal: pvalue 0.497\n",
      "\tcentral: pvalue 0.660\n",
      "\tparietal: pvalue 0.497\n",
      "\toccipital: pvalue 0.497\n",
      "\n",
      "depressed vs mania\n",
      "\tfrontal: pvalue 0.600\n",
      "\ttemporal: pvalue 0.426\n",
      "\tcentral: pvalue 0.932\n",
      "\tparietal: pvalue 0.660\n",
      "\toccipital: pvalue 0.400\n",
      "\n",
      "depressed vs cyclotimia\n",
      "\tfrontal: pvalue 0.932\n",
      "\ttemporal: pvalue 0.535\n",
      "\tcentral: pvalue 0.497\n",
      "\tparietal: pvalue 0.400\n",
      "\toccipital: pvalue 0.426\n",
      "\n",
      "bipolar vs mania\n",
      "\tfrontal: pvalue 0.938\n",
      "\ttemporal: pvalue 0.600\n",
      "\tcentral: pvalue 0.940\n",
      "\tparietal: pvalue 0.938\n",
      "\toccipital: pvalue 0.600\n",
      "\n",
      "bipolar vs cyclotimia\n",
      "\tfrontal: pvalue 0.940\n",
      "\ttemporal: pvalue 0.624\n",
      "\tcentral: pvalue 0.600\n",
      "\tparietal: pvalue 0.426\n",
      "\toccipital: pvalue 0.600\n",
      "\n",
      "mania vs cyclotimia\n",
      "\tfrontal: pvalue 0.989\n",
      "\ttemporal: pvalue 0.699\n",
      "\tcentral: pvalue 0.600\n",
      "\tparietal: pvalue 0.426\n",
      "\toccipital: pvalue 0.940\n",
      "\n"
     ]
    }
   ],
   "source": [
    "# separate zones, max power\n",
    "zone2ids = {'frontal': [0, 1, 2, 3, 4, 5, 6], 'temporal': [7, 8, 12, 13], 'central': [9, 10, 11], 'parietal': [14, 15, 16], 'occipital': [17, 18]}\n",
    "\n",
    "groups = {x: [] for x in zone2ids.keys()}\n",
    "for diag, id in new_classes.items():\n",
    "    grp = psds_zg[new_labels_zg == id]\n",
    "    for zone in zone2ids.keys():\n",
    "        zone_zg = np.max(grp[:, zone2ids[zone]], axis=1)\n",
    "        groups[zone].append(zone_zg)\n",
    "\n",
    "pvals = []\n",
    "for zone in zone2ids.keys():\n",
    "    pvals.append(stats.kruskal(*groups[zone])[1])\n",
    "pvals_corrected = false_discovery_control(pvals)\n",
    "\n",
    "cnt = 0\n",
    "for zone in zone2ids.keys():\n",
    "    print(f'{zone}: pvalue {pvals_corrected[cnt]}')\n",
    "    cnt += 1\n",
    "print()\n",
    "\n",
    "diags = list(new_classes.keys())\n",
    "\n",
    "pvals_unwrapped = []\n",
    "for i in range(len(diags)):\n",
    "    for j in range(i + 1, len(diags)):\n",
    "        for zone in zone2ids.keys():\n",
    "                pvals_unwrapped.append(stats.mannwhitneyu(groups[zone][i], groups[zone][j])[1])\n",
    "\n",
    "pvals_corrected = false_discovery_control(pvals_unwrapped)\n",
    "cnt = 0\n",
    "for i in range(len(diags)):\n",
    "    for j in range(i + 1, len(diags)):\n",
    "        print(f'{diags[i]} vs {diags[j]}')\n",
    "        for zone in zone2ids.keys():\n",
    "                print(f'\\t{zone}: pvalue {pvals_corrected[cnt]:.3f}')\n",
    "                cnt += 1\n",
    "        print()"
   ]
  },
  {
   "cell_type": "code",
   "execution_count": null,
   "metadata": {},
   "outputs": [],
   "source": []
  }
 ],
 "metadata": {
  "kernelspec": {
   "display_name": "Python 3",
   "language": "python",
   "name": "python3"
  },
  "language_info": {
   "codemirror_mode": {
    "name": "ipython",
    "version": 3
   },
   "file_extension": ".py",
   "mimetype": "text/x-python",
   "name": "python",
   "nbconvert_exporter": "python",
   "pygments_lexer": "ipython3",
   "version": "3.11.9"
  }
 },
 "nbformat": 4,
 "nbformat_minor": 2
}
